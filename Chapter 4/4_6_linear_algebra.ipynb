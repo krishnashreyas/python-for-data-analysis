{
 "cells": [
  {
   "cell_type": "markdown",
   "id": "16827398",
   "metadata": {},
   "source": [
    "<h2>Linear Algebra</h2>"
   ]
  },
  {
   "cell_type": "markdown",
   "id": "660d8258",
   "metadata": {},
   "source": [
    "<p>Linear algebra operations, like matrix multiplication, decompositions, determinants,\n",
    "and other square matrix math, are an important part of many array libraries. Multiplying\n",
    "two two-dimensional arrays with * is an element-wise product, while matrix multiplications require using a function.</p>"
   ]
  },
  {
   "cell_type": "markdown",
   "id": "e9e4f23d",
   "metadata": {},
   "source": [
    "<p>The function dot, both an array\n",
    "method and a function in the numpy namespace, is used for matrix multiplication.</p>"
   ]
  },
  {
   "cell_type": "code",
   "execution_count": 11,
   "id": "9ff3a77b",
   "metadata": {},
   "outputs": [],
   "source": [
    "import numpy as np\n",
    "from numpy.linalg import inv, qr"
   ]
  },
  {
   "cell_type": "code",
   "execution_count": 7,
   "id": "46999604",
   "metadata": {},
   "outputs": [
    {
     "name": "stdout",
     "output_type": "stream",
     "text": [
      "Array:\n",
      " [[1 2 3]\n",
      " [4 5 6]]\n",
      "\n",
      "Array:\n",
      " [[ 6 23]\n",
      " [-1  7]\n",
      " [ 8  9]]\n",
      "\n",
      "Dot product using x.dot(y):\n",
      " [[ 28  64]\n",
      " [ 67 181]]\n",
      "\n",
      "Dot product using np.dot(x, y):\n",
      " [[ 28  64]\n",
      " [ 67 181]]\n"
     ]
    }
   ],
   "source": [
    "# Creata an array\n",
    "x = np.array([[1, 2, 3], [4, 5, 6]])\n",
    "print('Array:\\n', x)\n",
    "\n",
    "# Create another array\n",
    "y = np.array([[6, 23], [-1, 7], [8, 9]])\n",
    "print('\\nArray:\\n', y)\n",
    "\n",
    "# Perform dot product\n",
    "print('\\nDot product using x.dot(y):\\n', x.dot(y))\n",
    "\n",
    "# x.dot(y) is equivalent to np.dot(x, y)\n",
    "print('\\nDot product using np.dot(x, y):\\n', np.dot(x, y))\n"
   ]
  },
  {
   "cell_type": "markdown",
   "id": "92aeeba4",
   "metadata": {},
   "source": [
    "<p>A matrix product between a two-dimensional array and a suitably sized onedimensional\n",
    "array results in a one-dimensional array.</p>"
   ]
  },
  {
   "cell_type": "code",
   "execution_count": 10,
   "id": "5fbf9f4b",
   "metadata": {},
   "outputs": [
    {
     "name": "stdout",
     "output_type": "stream",
     "text": [
      "\n",
      "1-D Array:\n",
      " [1 0 1]\n",
      "\n",
      "Dot product of x and v using x.dot(v):\n",
      " [ 4 10]\n",
      "\n",
      "Dot product of x and v using x @ v:\n",
      " [ 4 10]\n"
     ]
    }
   ],
   "source": [
    "# Dot product with a 1-D array\n",
    "v = np.array([1, 0, 1])\n",
    "print('\\n1-D Array:\\n', v)\n",
    "print('\\nDot product of x and v using x.dot(v):\\n', x.dot(v))\n",
    "\n",
    "# dot product can also be performed using @ operator\n",
    "print('\\nDot product of x and v using x @ v:\\n', x @ v)"
   ]
  },
  {
   "cell_type": "markdown",
   "id": "9a3a0f05",
   "metadata": {},
   "source": [
    "<p>numpy.linalg has a standard set of matrix decompositions and things like inverse\n",
    "and determinant.</p>"
   ]
  },
  {
   "cell_type": "code",
   "execution_count": 18,
   "id": "76383a8e",
   "metadata": {},
   "outputs": [
    {
     "name": "stdout",
     "output_type": "stream",
     "text": [
      "\n",
      "Random Array:\n",
      " [[-1.42382504  1.26372846 -0.87066174 -0.25917323 -0.07534331]\n",
      " [-0.74088465 -1.3677927   0.6488928   0.36105811 -1.95286306]\n",
      " [ 2.34740965  0.96849691 -0.75938718  0.90219827 -0.46695317]\n",
      " [-0.06068952  0.78884434 -1.25666813  0.57585751  1.39897899]\n",
      " [ 1.32229806 -0.29969852  0.90291934 -1.62158273 -0.15818926]]\n",
      "\n",
      "Matrix product of X.T and X:\n",
      " [[ 9.83867527  1.04334204  0.24651754  0.04017965  0.16391486]\n",
      " [ 1.04334204  5.11794735 -3.98521413  0.99264687  3.27464142]\n",
      " [ 0.24651754 -3.98521413  4.15026075 -2.41299778 -2.74788646]\n",
      " [ 0.04017965  0.99264687 -2.41299778  3.97263789 -0.04472489]\n",
      " [ 0.16391486  3.27464142 -2.74788646 -0.04472489  6.01956209]]\n",
      "\n",
      "Inverse of the matrix:\n",
      " [[ 0.15548538 -0.36723081 -0.52638547 -0.2300642  -0.04646089]\n",
      " [-0.36723081  2.54917814  3.47827334  1.48196722  0.22206454]\n",
      " [-0.52638547  3.47827334  5.46389554  2.46214396  0.63467543]\n",
      " [-0.2300642   1.48196722  2.46214396  1.38302896  0.33430132]\n",
      " [-0.04646089  0.22206454  0.63467543  0.33430132  0.33879566]]\n",
      "\n",
      "Product of matrix and its inverse (Identity Matrix):\n",
      " [[ 1. -0.  0.  0.  0.]\n",
      " [ 0.  1. -0. -0. -0.]\n",
      " [-0. -0.  1.  0.  0.]\n",
      " [ 0.  0. -0.  1. -0.]\n",
      " [ 0. -0. -0. -0.  1.]]\n"
     ]
    }
   ],
   "source": [
    "# Create an array of normally distributed random numbers of shape 5x5\n",
    "rng = np.random.default_rng(12345)\n",
    "X = rng.standard_normal((5, 5))\n",
    "print('\\nRandom Array:\\n', X)\n",
    "\n",
    "# Multiply the array by its transpose\n",
    "mat = X.T @ X\n",
    "print('\\nMatrix product of X.T and X:\\n', mat)\n",
    "\n",
    "# Inverse the matrix\n",
    "inv_mat = inv(mat)\n",
    "print('\\nInverse of the matrix:\\n', inv_mat)\n",
    "\n",
    "# Get identity matrix\n",
    "identity = mat @ inv_mat\n",
    "print('\\nProduct of matrix and its inverse (Identity Matrix):\\n', np.round(identity))"
   ]
  },
  {
   "cell_type": "markdown",
   "id": "3b36e508",
   "metadata": {},
   "source": [
    "### NumPy Linear Algebra Functions\n",
    "\n",
    "| Function | Description |\n",
    "|----------|-------------|\n",
    "| `np.diag` | Return the diagonal (or off-diagonal) elements of a square matrix as a 1D array, or convert a 1D array into a square matrix with zeros on the off-diagonal |\n",
    "| `np.dot` | Matrix multiplication |\n",
    "| `np.trace` | Compute the sum of the diagonal elements |\n",
    "| `np.linalg.det` | Compute the matrix determinant |\n",
    "| `np.linalg.eig` | Compute the eigenvalues and eigenvectors of a square matrix |\n",
    "| `np.linalg.inv` | Compute the inverse of a square matrix |\n",
    "| `np.linalg.pinv` | Compute the Moore-Penrose pseudoinverse of a matrix |\n",
    "| `np.linalg.qr` | Compute the QR decomposition |\n",
    "| `np.linalg.svd` | Compute the singular value decomposition (SVD) |\n",
    "| `np.linalg.solve` | Solve the linear system `Ax = b` for `x`, where `A` is a square matrix |\n",
    "| `np.linalg.lstsq` | Compute the least-squares solution to `Ax = b` |\n"
   ]
  },
  {
   "cell_type": "code",
   "execution_count": null,
   "id": "a537be29",
   "metadata": {},
   "outputs": [],
   "source": []
  }
 ],
 "metadata": {
  "kernelspec": {
   "display_name": "STATS",
   "language": "python",
   "name": "python3"
  },
  "language_info": {
   "codemirror_mode": {
    "name": "ipython",
    "version": 3
   },
   "file_extension": ".py",
   "mimetype": "text/x-python",
   "name": "python",
   "nbconvert_exporter": "python",
   "pygments_lexer": "ipython3",
   "version": "3.12.10"
  }
 },
 "nbformat": 4,
 "nbformat_minor": 5
}
