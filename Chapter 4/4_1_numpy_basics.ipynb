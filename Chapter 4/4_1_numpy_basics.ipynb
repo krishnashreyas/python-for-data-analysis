{
 "cells": [
  {
   "cell_type": "markdown",
   "id": "84e53928",
   "metadata": {},
   "source": [
    "<h2>Numpy<h2>"
   ]
  },
  {
   "cell_type": "markdown",
   "id": "3295fb26",
   "metadata": {},
   "source": [
    "<p>One of the reasons NumPy is so important for numerical computations in Python is\n",
    "because it is designed for efficiency on large arrays of data. There are a number of\n",
    "reasons for this:\n",
    "<br>\n",
    "<ul>\n",
    "<li>NumPy internally stores data in a contiguous block of memory, independent of\n",
    "other built-in Python objects. NumPy’s library of algorithms written in the C language\n",
    "can operate on this memory without any type checking or other overhead.\n",
    "NumPy arrays also use much less memory than built-in Python sequences.</li>\n",
    "<li>NumPy operations perform complex computations on entire arrays without the\n",
    "need for Python for loops, which can be slow for large sequences. NumPy is\n",
    "faster than regular Python code because its C-based algorithms avoid overhead\n",
    "present with regular interpreted Python code.</li></p>"
   ]
  },
  {
   "cell_type": "markdown",
   "id": "bb610787",
   "metadata": {},
   "source": []
  },
  {
   "cell_type": "code",
   "execution_count": 21,
   "id": "c39074c7",
   "metadata": {},
   "outputs": [],
   "source": [
    "import numpy as np"
   ]
  },
  {
   "cell_type": "code",
   "execution_count": 22,
   "id": "53edbc82",
   "metadata": {},
   "outputs": [
    {
     "name": "stdout",
     "output_type": "stream",
     "text": [
      "2.6 ms ± 638 μs per loop (mean ± std. dev. of 7 runs, 1,000 loops each)\n",
      "76.9 ms ± 6.97 ms per loop (mean ± std. dev. of 7 runs, 10 loops each)\n"
     ]
    }
   ],
   "source": [
    "# Performance difference numpy and python\n",
    "# Consider numpy array of one million elements and python list of one million elements\n",
    "np_arr = np.arange(1_000_000)\n",
    "py_list = list(range(1_000_000))\n",
    "# Multiply each element by 2\n",
    "%timeit np_arr * 2\n",
    "%timeit [x * 2 for x in py_list]"
   ]
  },
  {
   "cell_type": "markdown",
   "id": "96cc39ed",
   "metadata": {},
   "source": [
    "<h3>ndarray: A Multidimensional Array Object</h3>\n",
    "<p>N-dimensional array object, or ndarray, is a fast, flexible container for large datasets in Python. Arrays enable you to\n",
    "perform mathematical operations on whole blocks of data using similar syntax to the\n",
    "equivalent operations between scalar elements.It is a multidimensional container for homogeneous data; that is, all\n",
    "of the elements must be the same type.</p>"
   ]
  },
  {
   "cell_type": "code",
   "execution_count": 23,
   "id": "769e0370",
   "metadata": {},
   "outputs": [
    {
     "name": "stdout",
     "output_type": "stream",
     "text": [
      "(1000000,)\n",
      "int64\n"
     ]
    }
   ],
   "source": [
    "# Every array has a shape, a tuple of integers indicating the size of each dimension. \n",
    "print(np_arr.shape)\n",
    "\n",
    "# a dtype is an object describing how the bytes in the fixed-size block of memory should be interpreted.\n",
    "print(np_arr.dtype)"
   ]
  },
  {
   "cell_type": "markdown",
   "id": "b0f8f30a",
   "metadata": {},
   "source": [
    "<h3>Creating ndarrays</h3>"
   ]
  },
  {
   "cell_type": "code",
   "execution_count": 24,
   "id": "dbb74097",
   "metadata": {},
   "outputs": [
    {
     "name": "stdout",
     "output_type": "stream",
     "text": [
      "List to array:\n",
      "[1 3 5 7]\n",
      "Shape of array: (4,)\n",
      "\n",
      "Multidimensional array :\n",
      "[[1 2 3]\n",
      " [4 5 6]]\n",
      "ndim of multidimensional array: 2\n",
      "Shape of multidimensional array: (2, 3)\n"
     ]
    }
   ],
   "source": [
    "# Consider a list\n",
    "data1 = [1, 3, 5, 7]\n",
    "# We can convert this lsit to numpy array by calling the array function.\n",
    "arr1 = np.array(data1)\n",
    "print('List to array:')\n",
    "print(arr1)\n",
    "print('Shape of array:', arr1.shape)\n",
    "print()\n",
    "\n",
    "# Nested sequences are converted to multidimensional arrays\n",
    "data2 = [[1, 2, 3], [4, 5, 6]]\n",
    "arr2 = np.array(data2)\n",
    "print('Multidimensional array :')\n",
    "print(arr2)\n",
    "# ndim is the number of dimensions of the array\n",
    "print('ndim of multidimensional array:', arr2.ndim)\n",
    "# Shape of multi-dimensional array\n",
    "print('Shape of multidimensional array:', arr2.shape)\n"
   ]
  },
  {
   "cell_type": "markdown",
   "id": "2c15ef8b",
   "metadata": {},
   "source": [
    "<p>Unless explicitly specified,\n",
    "numpy.array tries to infer a good data type for the array that it creates. The data\n",
    "type is stored in a special dtype metadata object.</p>"
   ]
  },
  {
   "cell_type": "code",
   "execution_count": 25,
   "id": "23fb7e26",
   "metadata": {},
   "outputs": [
    {
     "name": "stdout",
     "output_type": "stream",
     "text": [
      "dtype of multidimensional array: int64\n",
      "Array with float elements:\n",
      "[[1.  3.4]\n",
      " [6.9 8.1]]\n",
      "dtype of array with float elements: float64\n"
     ]
    }
   ],
   "source": [
    "# dtype of the array is inferred from the data type of the elements in the sequences\n",
    "print('dtype of multidimensional array:', arr2.dtype)\n",
    "\n",
    "# array with float elements\n",
    "arr3 = np.array([[1.0, 3.4], [6.9, 8.1]])\n",
    "# dtype of the array is inferred from the data type of the elements in the sequences\n",
    "print('Array with float elements:')\n",
    "print(arr3)\n",
    "print('dtype of array with float elements:', arr3.dtype)"
   ]
  },
  {
   "cell_type": "markdown",
   "id": "ed9b2053",
   "metadata": {},
   "source": [
    "<p>In addition to numpy.array, there are a number of other functions for creating\n",
    "new arrays. As examples, numpy.zeros and numpy.ones create arrays of 0s or 1s,\n",
    "respectively, with a given length or shape. numpy.empty creates an array without\n",
    "initializing its values to any particular value.</p>"
   ]
  },
  {
   "cell_type": "code",
   "execution_count": 26,
   "id": "886ff612",
   "metadata": {},
   "outputs": [
    {
     "name": "stdout",
     "output_type": "stream",
     "text": [
      "Array of zeros: [0. 0. 0. 0. 0.]\n",
      "\n",
      "2D Array of zeros:\n",
      "[[0. 0. 0. 0.]\n",
      " [0. 0. 0. 0.]\n",
      " [0. 0. 0. 0.]]\n",
      "\n",
      "Array of ones: [1. 1. 1. 1. 1.]\n",
      "\n",
      "2D Array of ones:\n",
      "[[1. 1. 1.]\n",
      " [1. 1. 1.]]\n",
      "Empty array: [1. 1. 1. 1. 1.]\n",
      "\n",
      "2D Empty array:\n",
      "[[[0. 0.]\n",
      "  [0. 0.]\n",
      "  [0. 0.]]\n",
      "\n",
      " [[0. 0.]\n",
      "  [0. 0.]\n",
      "  [0. 0.]]]\n"
     ]
    }
   ],
   "source": [
    "# Create an array of zeros\n",
    "zero_arr = np.zeros(5)\n",
    "print('Array of zeros:', zero_arr)\n",
    "print()\n",
    "\n",
    "# Array of zeros with a specific shape\n",
    "zero_arr_2d = np.zeros((3, 4))  # 3 rows and 4 columns\n",
    "print('2D Array of zeros:')\n",
    "print(zero_arr_2d)\n",
    "print()\n",
    "\n",
    "# Create an array of ones\n",
    "ones_arr = np.ones(5)\n",
    "print('Array of ones:', ones_arr)\n",
    "print()\n",
    "\n",
    "# Array of ones with a specific shape\n",
    "ones_arr_2d = np.ones((2, 3))\n",
    "print('2D Array of ones:')\n",
    "print(ones_arr_2d)\n",
    "\n",
    "# Create an empty array (values are uninitialized)\n",
    "empty_arr = np.empty(5)\n",
    "print('Empty array:', empty_arr)\n",
    "print()\n",
    "\n",
    "# Empty array with a specific shape\n",
    "empty_arr_2d = np.empty((2, 3, 2))\n",
    "print('2D Empty array:')\n",
    "print(empty_arr_2d)\n",
    "\n"
   ]
  },
  {
   "cell_type": "markdown",
   "id": "ad862392",
   "metadata": {},
   "source": [
    "<p>numpy.empty will not always return an array of all\n",
    "zeros. This function returns uninitialized memory and thus may\n",
    "contain nonzero “garbage” values. You should use this function\n",
    "only if you intend to populate the new array with data.</p>"
   ]
  },
  {
   "cell_type": "markdown",
   "id": "e68b04ee",
   "metadata": {},
   "source": [
    "<h3>Data Types for ndarrays</h3>\n",
    "<p>The data type or dtype is a special object containing the information (or metadata,\n",
    "data about data) the ndarray needs to interpret a chunk of memory as a particular\n",
    "type of data.</p>"
   ]
  },
  {
   "cell_type": "code",
   "execution_count": 27,
   "id": "3ab0181d",
   "metadata": {},
   "outputs": [
    {
     "name": "stdout",
     "output_type": "stream",
     "text": [
      "Array with dtype float64: [1. 2. 3.]\n",
      "dtype of array with dtype float64: float64\n",
      "\n",
      "Array with dtype int32: [1 2 3]\n",
      "dtype of array with dtype int32: int32\n"
     ]
    }
   ],
   "source": [
    "# Creating an array of dtype float64\n",
    "float_arr = np.array([1, 2, 3], dtype=np.float64)\n",
    "print('Array with dtype float64:', float_arr)\n",
    "print('dtype of array with dtype float64:', float_arr.dtype)\n",
    "print()\n",
    "\n",
    "# Creating an array of dtype int32\n",
    "int_arr = np.array([1, 2, 3], dtype=np.int32)\n",
    "print('Array with dtype int32:', int_arr)\n",
    "print('dtype of array with dtype int32:', int_arr.dtype)"
   ]
  },
  {
   "cell_type": "markdown",
   "id": "9c463196",
   "metadata": {},
   "source": [
    "<p>Data types are a source of NumPy’s flexibility for interacting with data coming from\n",
    "other systems. In most cases they provide a mapping directly onto an underlying\n",
    "disk or memory representation, which makes it possible to read and write binary\n",
    "streams of data to disk and to connect to code written in a low-level language like\n",
    "C or FORTRAN. The numerical data types are named the same way: a type name,\n",
    "like float or int, followed by a number indicating the number of bits per element.\n",
    "A standard double-precision floating-point value (what’s used under the hood in\n",
    "Python’s float object) takes up 8 bytes or 64 bits. Thus, this type is known in NumPy\n",
    "as float64.</p>"
   ]
  },
  {
   "cell_type": "code",
   "execution_count": 28,
   "id": "9e6b1f62",
   "metadata": {},
   "outputs": [
    {
     "name": "stdout",
     "output_type": "stream",
     "text": [
      "Converted array from int32 to float64: [1. 2. 3.]\n",
      "dtype of converted array: float64\n",
      "\n",
      "Converted array from float64 to int32: [1 2 3]\n",
      "dtype of converted array: int32\n",
      "\n",
      "String array: ['1.0' '2.5' '3.6']\n",
      "Converted string array to float64: [1.  2.5 3.6]\n",
      "dtype of converted array: float64\n",
      "\n",
      "Converted array using another array's dtype: [4. 5. 6.]\n",
      "dtype of converted array: float64\n",
      "\n"
     ]
    }
   ],
   "source": [
    "# You can explicitly convert or cast an array from one data type to another using ndarray’s astype method\n",
    "float_arr2 = int_arr.astype(np.float64)\n",
    "print('Converted array from int32 to float64:', float_arr2)\n",
    "print('dtype of converted array:', float_arr2.dtype)\n",
    "print()\n",
    "\n",
    "# Casting float to int will truncate the decimal part\n",
    "int_arr2 = float_arr.astype(np.int32)\n",
    "print('Converted array from float64 to int32:', int_arr2)\n",
    "print('dtype of converted array:', int_arr2.dtype)\n",
    "print()\n",
    "\n",
    "# Converting strings to numbers\n",
    "str_arr = np.array(['1.0', '2.5', '3.6'], dtype=np.str_)\n",
    "print('String array:', str_arr)\n",
    "num_arr = str_arr.astype(np.float64)\n",
    "print('Converted string array to float64:', num_arr)\n",
    "print('dtype of converted array:', num_arr.dtype)\n",
    "print()\n",
    "\n",
    "# Using another array's dtype\n",
    "another_arr = np.array([4, 5, 6])\n",
    "converted_arr = another_arr.astype(float_arr.dtype)\n",
    "print('Converted array using another array\\'s dtype:', converted_arr)\n",
    "print('dtype of converted array:', converted_arr.dtype)\n",
    "print()"
   ]
  },
  {
   "cell_type": "markdown",
   "id": "8d6f729d",
   "metadata": {},
   "source": [
    "<p>Calling astype always creates a new array (a copy of the data), even\n",
    "if the new data type is the same as the old data type.</p>"
   ]
  },
  {
   "cell_type": "markdown",
   "id": "8772b269",
   "metadata": {},
   "source": [
    "<h3>Arithmetic with NumPy Arrays</h3>\n",
    "<p>Arrays are important because they enable you to express batch operations on data\n",
    "without writing any for loops. NumPy users call this vectorization.</p>"
   ]
  },
  {
   "cell_type": "code",
   "execution_count": 29,
   "id": "190fb5a4",
   "metadata": {},
   "outputs": [
    {
     "name": "stdout",
     "output_type": "stream",
     "text": [
      "Array for arithmetic operations: \n",
      " [[1 2 3]\n",
      " [4 5 6]]\n",
      "\n",
      "Array multiplication: \n",
      " [[ 1  4  9]\n",
      " [16 25 36]]\n"
     ]
    }
   ],
   "source": [
    "# Any arithmetic operations between equal-size arrays apply the operation element-wise\n",
    "arr = np.array([[1, 2, 3], [4, 5, 6]])\n",
    "print('Array for arithmetic operations: \\n', arr)\n",
    "print()\n",
    "# array multiplication\n",
    "print('Array multiplication: \\n', arr * arr)"
   ]
  },
  {
   "cell_type": "markdown",
   "id": "3fab1f80",
   "metadata": {},
   "source": [
    "<p>If you perform an arithmetic operation (like +, -, *, /) between a NumPy array and a scalar (a single number), NumPy will apply that operation to every element of the array.</p>"
   ]
  },
  {
   "cell_type": "code",
   "execution_count": 30,
   "id": "40370cde",
   "metadata": {},
   "outputs": [
    {
     "name": "stdout",
     "output_type": "stream",
     "text": [
      "Scalar division: \n",
      " [[0.5 1.  1.5]\n",
      " [2.  2.5 3. ]]\n",
      "\n",
      "Scalar multiplication: \n",
      " [[ 2  4  6]\n",
      " [ 8 10 12]]\n",
      "\n",
      "Array elements greater than 3: \n",
      " [[False False False]\n",
      " [ True  True  True]]\n",
      "\n"
     ]
    }
   ],
   "source": [
    "# Scalar division\n",
    "print('Scalar division: \\n', arr / 2)\n",
    "print()\n",
    "\n",
    "# Scalar multiplication\n",
    "print('Scalar multiplication: \\n', arr * 2)\n",
    "print()\n",
    "\n",
    "# Comparision of array elements yeild boolean arrays\n",
    "print('Array elements greater than 3: \\n', arr > 3)\n",
    "print()\n"
   ]
  },
  {
   "cell_type": "markdown",
   "id": "47a81e1e",
   "metadata": {},
   "source": [
    "<h3>Indexing and Slicing</h3>\n",
    "<p>Indexing or slicing can be used to select\n",
    "a subset of your data or individual elements.</p>"
   ]
  },
  {
   "cell_type": "code",
   "execution_count": 31,
   "id": "4fd91851",
   "metadata": {},
   "outputs": [
    {
     "name": "stdout",
     "output_type": "stream",
     "text": [
      "One dimensional array: [1 2 3 4 5]\n",
      "First element: 1\n",
      "Last element: 5\n",
      "Slicing first three elements: [1 2 3]\n",
      "Slicing last two elements: [4 5]\n",
      "\n",
      "After assigning 10 to first three elements: [10 10 10  4  5]\n",
      "\n"
     ]
    }
   ],
   "source": [
    "# One dimensional array act like a list\n",
    "one_d_arr = np.array([1, 2, 3, 4, 5])\n",
    "print('One dimensional array:', one_d_arr)\n",
    "print('First element:', one_d_arr[0])\n",
    "print('Last element:', one_d_arr[-1])\n",
    "print('Slicing first three elements:', one_d_arr[:3])\n",
    "print('Slicing last two elements:', one_d_arr[-2:])\n",
    "print()\n",
    "\n",
    "# Assigning scalar value to a slice\n",
    "one_d_arr[:3] = 10\n",
    "print('After assigning 10 to first three elements:', one_d_arr)\n",
    "print()"
   ]
  },
  {
   "cell_type": "code",
   "execution_count": 32,
   "id": "f8a91bb3",
   "metadata": {},
   "outputs": [
    {
     "name": "stdout",
     "output_type": "stream",
     "text": [
      "Slice of one dimensional array: [10 10  4]\n",
      "Original array after slicing: [10 10 10  4  5]\n",
      "\n",
      "Slice of one dimensional array (copy): [10 10  4]\n",
      "Modified slice of one dimensional array: [20 10  4]\n",
      "Original array after modifying slice: [10 10 10  4  5]\n",
      "\n",
      "Multi-dimensional array:\n",
      " [[1 2 3]\n",
      " [4 5 6]\n",
      " [7 8 9]]\n",
      "Original multi-dimensional array after bare slicing: \n",
      " [[7 7 7]\n",
      " [7 7 7]\n",
      " [7 7 7]]\n",
      "\n"
     ]
    }
   ],
   "source": [
    "# Slicing on array reflects in the original array\n",
    "slice_arr = one_d_arr[1:4]\n",
    "print('Slice of one dimensional array:', slice_arr)\n",
    "print('Original array after slicing:', one_d_arr)\n",
    "print()\n",
    "\n",
    "# Assign slice to a different array\n",
    "slice_arr = one_d_arr[1:4].copy()  # Use copy to avoid modifying the original array\n",
    "print('Slice of one dimensional array (copy):', slice_arr)\n",
    "# Change value of slice_arr\n",
    "slice_arr[0] = 20\n",
    "print('Modified slice of one dimensional array:', slice_arr)\n",
    "print('Original array after modifying slice:', one_d_arr)\n",
    "print()\n",
    "\n",
    "# Bare slicing on multi-dimensional arrays\n",
    "multi_d_arr = np.array([[1, 2, 3], [4, 5, 6], [7, 8, 9]])\n",
    "print('Multi-dimensional array:\\n', multi_d_arr)\n",
    "multi_d_arr[:] = 7\n",
    "print('Original multi-dimensional array after bare slicing: \\n', multi_d_arr)\n",
    "print()"
   ]
  },
  {
   "cell_type": "markdown",
   "id": "f9417bb8",
   "metadata": {},
   "source": [
    "<p>Slicing a Python list always creates a new list object (a copy of the references, not the actual objects). Where as, in slicing an numpy array makes changes to the source.As NumPy has been\n",
    "designed to be able to work with very large arrays, you could imagine performance\n",
    "and memory problems if NumPy insisted on always copying data.</p>"
   ]
  },
  {
   "cell_type": "code",
   "execution_count": 33,
   "id": "34ad563c",
   "metadata": {},
   "outputs": [
    {
     "name": "stdout",
     "output_type": "stream",
     "text": [
      "2D Array for slicing:\n",
      "[[1 2 3]\n",
      " [4 5 6]\n",
      " [7 8 9]]\n",
      "\n",
      "First row of 2D array: [1 2 3]\n"
     ]
    }
   ],
   "source": [
    "# Create a 2D array\n",
    "two_d_arr = np.array([[1, 2, 3], [4, 5, 6], [7, 8, 9]])\n",
    "# Slicing 2D array using a scalar\n",
    "print('2D Array for slicing:')\n",
    "print(two_d_arr)\n",
    "print()\n",
    "# Slicing first row\n",
    "first_row = two_d_arr[0]\n",
    "print('First row of 2D array:', first_row)"
   ]
  },
  {
   "cell_type": "markdown",
   "id": "1bd7caf3",
   "metadata": {},
   "source": [
    "<p>Thus, individual elements can be accessed recursively. But that is a bit too much\n",
    "work, so you can pass a comma-separated list of indices to select individual elements.</p>"
   ]
  },
  {
   "cell_type": "code",
   "execution_count": 34,
   "id": "f10b6f85",
   "metadata": {},
   "outputs": [
    {
     "name": "stdout",
     "output_type": "stream",
     "text": [
      "Slicing first two rows and first two columns:\n",
      "Sliced 2D array: 7\n"
     ]
    }
   ],
   "source": [
    "# Slicing a two-dimensional array\n",
    "print('Slicing first two rows and first two columns:')\n",
    "sliced_2d_arr = two_d_arr[2][0]\n",
    "print('Sliced 2D array:', sliced_2d_arr)\n"
   ]
  },
  {
   "cell_type": "markdown",
   "id": "35077cfc",
   "metadata": {},
   "source": [
    "<p>For indexing on a two-dimensional array it is\n",
    "helpful to think of axis 0 as the “rows” of the array and axis 1 as the “columns.”</p>"
   ]
  },
  {
   "cell_type": "markdown",
   "id": "2ebb9430",
   "metadata": {},
   "source": [
    "<p>In multidimensional arrays, if you omit later indices, the returned object will be a\n",
    "lower dimensional ndarray consisting of all the data along the higher dimensions.</p>"
   ]
  },
  {
   "cell_type": "code",
   "execution_count": 35,
   "id": "52cf36a5",
   "metadata": {},
   "outputs": [
    {
     "name": "stdout",
     "output_type": "stream",
     "text": [
      "3D Array for indexing:\n",
      "[[[ 1  2  3]\n",
      "  [ 4  5  6]]\n",
      "\n",
      " [[ 7  8  9]\n",
      "  [10 11 12]]]\n",
      "\n",
      "indexing :\n",
      "[[1 2 3]\n",
      " [4 5 6]]\n",
      "\n",
      "3D Array after assigning scalar value 100 to first element:\n",
      "[[[100 100 100]\n",
      "  [100 100 100]]\n",
      "\n",
      " [[  7   8   9]\n",
      "  [ 10  11  12]]]\n",
      "\n",
      "3D Array after assigning back the old value:\n",
      "[[[ 1  2  3]\n",
      "  [ 4  5  6]]\n",
      "\n",
      " [[ 7  8  9]\n",
      "  [10 11 12]]]\n",
      "\n",
      "Indexing first row of second element:\n",
      "[7 8 9]\n",
      "\n",
      "Indexing second element of 3D array:\n",
      "[7 8 9]\n",
      "\n"
     ]
    }
   ],
   "source": [
    "# Indexing multi-dimensional arrays\n",
    "arr3d = np.array([[[1, 2, 3], [4, 5, 6]], [[7, 8, 9], [10, 11, 12]]])\n",
    "print('3D Array for indexing:')\n",
    "print(arr3d)\n",
    "print()\n",
    "# Indexing \n",
    "print('indexing :')\n",
    "print(arr3d[0])\n",
    "print()\n",
    "\n",
    "# Both scalar values and arrays can be assigned to arr3d[0]\n",
    "old_value = arr3d[0].copy()\n",
    "arr3d[0] = 100\n",
    "print('3D Array after assigning scalar value 100 to first element:')\n",
    "print(arr3d)\n",
    "print()\n",
    "# Assign back the old value\n",
    "arr3d[0] = old_value\n",
    "print('3D Array after assigning back the old value:')\n",
    "print(arr3d)\n",
    "print()\n",
    "\n",
    "# Similarly, arr3d[1, 0] gives you all of the values whose indices start with (1, 0), forming a one-dimensional array\n",
    "print('Indexing first row of second element:')\n",
    "print(arr3d[1, 0])\n",
    "print()\n",
    "\n",
    "# We can also\n",
    "x = arr3d[1]\n",
    "# Then slice\n",
    "print('Indexing second element of 3D array:')\n",
    "print(x[0]) # This will return simialr output to the one above\n",
    "print()"
   ]
  },
  {
   "cell_type": "markdown",
   "id": "cd9db0ea",
   "metadata": {},
   "source": [
    "<p>Note that in all of these cases where subsections of the array have been selected, the\n",
    "returned arrays are views.\n",
    "<br>\n",
    "When you slice or index a NumPy array, by default NumPy does not copy the data.\n",
    "Instead, it creates a view of the same underlying data in memory.\n",
    "That means:\n",
    "<ul>\n",
    "<li>The new array object is just a \"window\" into the same data buffer.</li>\n",
    "\n",
    "<li>Changes you make in the view will also affect the original array.</li>\n",
    "</ul>\n",
    "\n",
    "This multidimensional indexing syntax for NumPy arrays will not\n",
    "work with regular Python objects, such as lists of lists.\n",
    "</p>"
   ]
  },
  {
   "cell_type": "markdown",
   "id": "821a28ce",
   "metadata": {},
   "source": [
    "<h3>Indexing with slices</h3>"
   ]
  },
  {
   "cell_type": "code",
   "execution_count": 36,
   "id": "0a9112ca",
   "metadata": {},
   "outputs": [
    {
     "name": "stdout",
     "output_type": "stream",
     "text": [
      "Original array: [1 2 3 4 5]\n",
      "\n",
      "Sliced array (first three elements): [3 4]\n",
      "\n",
      "2D Array for slicing:\n",
      "[[1 2 3]\n",
      " [4 5 6]\n",
      " [7 8 9]]\n",
      "\n",
      "Sliced two-dimensional array :\n",
      " [[4 5]\n",
      " [7 8]]\n",
      "\n",
      "After assigning 100 to first element of sliced 2D array:\n",
      "[[  1 100 100]\n",
      " [  4 100 100]\n",
      " [  7   8   9]]\n"
     ]
    }
   ],
   "source": [
    "# ndarrays can be sliced similar to slicing of lists\n",
    "a = np.array([1, 2, 3, 4, 5])\n",
    "print('Original array:', a)\n",
    "print()\n",
    "\n",
    "# Slicing the elements\n",
    "sliced_a = a[2:4]\n",
    "print('Sliced array (first three elements):', sliced_a)\n",
    "print()\n",
    "\n",
    "# Consider a two-dimensional array\n",
    "two_d_arr = np.array([[1, 2, 3], [4, 5, 6], [7, 8, 9]])\n",
    "print('2D Array for slicing:')\n",
    "print(two_d_arr)\n",
    "print()\n",
    "# Slicing first two rows and first two columns\n",
    "sliced_2d_arr = two_d_arr[1:, :2]\n",
    "print('Sliced two-dimensional array :\\n', sliced_2d_arr)\n",
    "print()\n",
    "\n",
    "# Assigning to slice expression\n",
    "two_d_arr[:2, 1:] = 100\n",
    "print('After assigning 100 to first element of sliced 2D array:')\n",
    "print(two_d_arr)\n",
    "\n"
   ]
  },
  {
   "cell_type": "markdown",
   "id": "eff1149f",
   "metadata": {},
   "source": [
    "<h3>Boolean Indexing</h3>"
   ]
  },
  {
   "cell_type": "code",
   "execution_count": 37,
   "id": "384f75ba",
   "metadata": {},
   "outputs": [
    {
     "name": "stdout",
     "output_type": "stream",
     "text": [
      "Boolean array corresponding to string \"apple\" : [ True False  True False False False False]\n",
      "Array indexed using boolean array :\n",
      " [[ 4  7]\n",
      " [-5  6]]\n",
      "Array indexed using boolean array :\n",
      " [7 6]\n"
     ]
    }
   ],
   "source": [
    "# Consider array of strings with duplicates\n",
    "str_arr = np.array(['apple', 'banana', 'apple', 'orange', 'banana', 'cherry', 'kiwi'])\n",
    "\n",
    "# Consider another array that is two dimensional\n",
    "data = np.array([[4, 7], [0, 2], [-5, 6], [0, 0], [1, 2], [-12, -4], [3, 4]])\n",
    "\n",
    "#Suppose each name corresponds to a row in the data array and we wanted to select all the rows with the corresponding name \"apple\".\n",
    "# Comparing with the string \"apple\" yields a Boolean array\n",
    "print('Boolean array corresponding to string \"apple\" :',str_arr == 'apple')\n",
    "# The boolean array can be used to index\n",
    "print('Array indexed using boolean array :\\n',data[str_arr == 'apple'])\n",
    "\n",
    "# Selecting rows with boolean array\n",
    "print('Array indexed using boolean array :\\n',data[str_arr == 'apple' , 1])\n"
   ]
  },
  {
   "cell_type": "markdown",
   "id": "67bf6e9b",
   "metadata": {},
   "source": [
    "<p><b>Note :</b> The Boolean array must be of the same length as the array axis it’s indexing. You can\n",
    "even mix and match Boolean arrays with slices or integers</p>"
   ]
  },
  {
   "cell_type": "code",
   "execution_count": 38,
   "id": "3496499b",
   "metadata": {},
   "outputs": [
    {
     "name": "stdout",
     "output_type": "stream",
     "text": [
      "Boolean array where banana is not required : [ True False  True  True False  True  True]\n",
      "Boolean array where banana is not required using \"`\" operator : [ True False  True  True False  True  True]\n",
      "\n",
      "Array indexed using boolean array from negation :\n",
      " [[  0   2]\n",
      " [  0   0]\n",
      " [  1   2]\n",
      " [-12  -4]\n",
      " [  3   4]]\n",
      "\n",
      "Indexed using boolean array from arithmetic operator : \n",
      " [[0 0]\n",
      " [3 4]]\n"
     ]
    }
   ],
   "source": [
    "# To select everything but \"banana\" you can either use != or negate the condition using ~:\n",
    "print('Boolean array where banana is not required :', str_arr != 'banana')\n",
    "print('Boolean array where banana is not required using \"`\" operator :', ~(str_arr == 'banana'))\n",
    "print()\n",
    "\n",
    "# Indexing using the negate operator\n",
    "print('Array indexed using boolean array from negation :\\n',data[str_arr != 'apple' ])\n",
    "print()\n",
    "\n",
    "# To select two of the three names to combine multiple Boolean conditions, use Boolean arithmetic operators like & (and) and | (or)\n",
    "mask = (str_arr=='orange') | (str_arr=='kiwi')\n",
    "print('Indexed using boolean array from arithmetic operator : \\n', data[mask])"
   ]
  },
  {
   "cell_type": "markdown",
   "id": "b3c319e9",
   "metadata": {},
   "source": [
    "<p><b>Note :</b> Selecting data from an array by Boolean indexing and assigning the result to a new\n",
    "variable always creates a copy of the data, even if the returned array is unchanged.</p>"
   ]
  },
  {
   "cell_type": "markdown",
   "id": "1bd1437a",
   "metadata": {},
   "source": [
    "<p>The Python keywords \"and\" and \"or\" do not work with Boolean arrays.\n",
    "Use & (and) and | (or) instead.</p>"
   ]
  },
  {
   "cell_type": "code",
   "execution_count": 39,
   "id": "acae2a74",
   "metadata": {},
   "outputs": [
    {
     "name": "stdout",
     "output_type": "stream",
     "text": [
      "Original array :\n",
      " [[  4   7]\n",
      " [  0   2]\n",
      " [ -5   6]\n",
      " [  0   0]\n",
      " [  1   2]\n",
      " [-12  -4]\n",
      " [  3   4]]\n",
      "Array after assigning 0 to all values less than 0 :\n",
      "[[4 7]\n",
      " [0 2]\n",
      " [0 6]\n",
      " [0 0]\n",
      " [1 2]\n",
      " [0 0]\n",
      " [3 4]]\n"
     ]
    }
   ],
   "source": [
    "# Select all values in data that are less than 0 and assign value 0\n",
    "print('Original array :\\n', data)\n",
    "print('Array after assigning 0 to all values less than 0 :')\n",
    "data[data < 0] = 0\n",
    "print(data)"
   ]
  },
  {
   "cell_type": "markdown",
   "id": "de7c1b21",
   "metadata": {},
   "source": [
    "<h3>Fancy Indexing</h3>\n",
    "<p>Through fancy indexing one can can get the exact values in an array by mentioning Fancy indexing, unlike slicing, always copies the data into a new\n",
    "array when assigning the result to a new variable. This is because it usses lists or boolean mask as indices.\n",
    "\n",
    "Why fancy indexing copy instead of view?\n",
    "<ul>\n",
    "<li>The elements you pick may not be contiguous in memory.</li>\n",
    "<li>NumPy’s data buffer is stored as a continuous block, but fancy indexing can grab elements from scattered positions.</li>\n",
    "<li>To handle this, NumPy has no choice but to create a new array and copy the data.</li>\n",
    "</ul>\n",
    "</p>"
   ]
  },
  {
   "cell_type": "code",
   "execution_count": 45,
   "id": "4e4b2e04",
   "metadata": {},
   "outputs": [
    {
     "name": "stdout",
     "output_type": "stream",
     "text": [
      "Original array :\n",
      " [[0. 0. 0. 0.]\n",
      " [1. 1. 1. 1.]\n",
      " [2. 2. 2. 2.]\n",
      " [3. 3. 3. 3.]\n",
      " [4. 4. 4. 4.]\n",
      " [5. 5. 5. 5.]\n",
      " [6. 6. 6. 6.]\n",
      " [7. 7. 7. 7.]]\n",
      "\n",
      "Array subset by passing a list: \n",
      " [[4. 4. 4. 4.]\n",
      " [3. 3. 3. 3.]\n",
      " [0. 0. 0. 0.]\n",
      " [6. 6. 6. 6.]]\n",
      "\n",
      "Negative indexing of arr :\n",
      " [[5. 5. 5. 5.]\n",
      " [7. 7. 7. 7.]\n",
      " [4. 4. 4. 4.]]\n",
      "\n"
     ]
    }
   ],
   "source": [
    "# Fancy Indexing\n",
    "arr = np.zeros((8, 4))\n",
    "for i in range(8):\n",
    "    arr[i] = i\n",
    "print('Original array :\\n', arr)\n",
    "print()\n",
    "print('Array subset by passing a list: \\n', arr[[4,3,0,6]])\n",
    "print()\n",
    "\n",
    "\n",
    "# Negative indexing\n",
    "print('Negative indexing of arr :\\n',arr[[-3,-1,-4]])\n",
    "print()\n",
    "\n",
    "\n",
    "\n"
   ]
  },
  {
   "cell_type": "markdown",
   "id": "f8a92049",
   "metadata": {},
   "source": [
    "<p>Passing multiple index arrays does something slightly different; it selects a onedimensional\n",
    "array of elements corresponding to each tuple of indices.</p>"
   ]
  },
  {
   "cell_type": "code",
   "execution_count": null,
   "id": "c578b478",
   "metadata": {},
   "outputs": [],
   "source": [
    "# Passing multiple index arrays\n",
    "arr2 = np.arange(32).reshape((8,4))\n",
    "print('Original array for multiple index arrays :\\n', arr2)\n",
    "print()\n",
    "print('Array subset by passing multiple index arrays: \\n', arr2[[1,5,7,2], [0,3,1,2]])\n",
    "print()"
   ]
  },
  {
   "cell_type": "markdown",
   "id": "74669fc8",
   "metadata": {},
   "source": [
    "<h3>Transposing Arrays and Swapping Axes</h3>\n",
    "<p>Transposing is a special form of reshaping that similarly returns a view on the\n",
    "underlying data without copying anything.</p>"
   ]
  },
  {
   "cell_type": "code",
   "execution_count": 47,
   "id": "2d499b89",
   "metadata": {},
   "outputs": [
    {
     "name": "stdout",
     "output_type": "stream",
     "text": [
      "Original array for transpose :\n",
      " [[ 0  1  2  3  4]\n",
      " [ 5  6  7  8  9]\n",
      " [10 11 12 13 14]]\n",
      "\n",
      "Transposed array using T attribute :\n",
      " [[ 0  5 10]\n",
      " [ 1  6 11]\n",
      " [ 2  7 12]\n",
      " [ 3  8 13]\n",
      " [ 4  9 14]]\n"
     ]
    }
   ],
   "source": [
    "# Arrays have the transpose method and the special T attribute\n",
    "arr = np.arange(15).reshape((3, 5))\n",
    "print('Original array for transpose :\\n', arr)\n",
    "print()\n",
    "print('Transposed array using T attribute :\\n', arr.T)"
   ]
  },
  {
   "cell_type": "code",
   "execution_count": 52,
   "id": "5122031a",
   "metadata": {},
   "outputs": [
    {
     "name": "stdout",
     "output_type": "stream",
     "text": [
      "Dot product using numpy's dot function :\n",
      " [[125 140 155 170 185]\n",
      " [140 158 176 194 212]\n",
      " [155 176 197 218 239]\n",
      " [170 194 218 242 266]\n",
      " [185 212 239 266 293]]\n",
      "\n",
      "Dot product using numpy's @ operator :\n",
      " [[125 140 155 170 185]\n",
      " [140 158 176 194 212]\n",
      " [155 176 197 218 239]\n",
      " [170 194 218 242 266]\n",
      " [185 212 239 266 293]]\n",
      "\n"
     ]
    }
   ],
   "source": [
    "# We can perform dot produts with the dot function or the method\n",
    "print('Dot product using numpy\\'s dot function :\\n', np.dot(arr.T, arr))\n",
    "print()\n",
    "print('Dot product using numpy\\'s @ operator :\\n', arr.T @ arr)\n",
    "print()"
   ]
  },
  {
   "cell_type": "markdown",
   "id": "1eaba7c9",
   "metadata": {},
   "source": [
    "<p>Simple transposing with .T is a special case of swapping axes. ndarray has the method\n",
    "swapaxes, which takes a pair of axis numbers and switches the indicated axes to\n",
    "rearrange the data</p>"
   ]
  },
  {
   "cell_type": "code",
   "execution_count": 55,
   "id": "e0bfb618",
   "metadata": {},
   "outputs": [
    {
     "name": "stdout",
     "output_type": "stream",
     "text": [
      "Original array for swapping axes :\n",
      " [[ 0  1  2  3  4]\n",
      " [ 5  6  7  8  9]\n",
      " [10 11 12 13 14]]\n",
      "\n",
      "Swapping axes using the swapaxes function :\n",
      " [[ 0  5 10]\n",
      " [ 1  6 11]\n",
      " [ 2  7 12]\n",
      " [ 3  8 13]\n",
      " [ 4  9 14]]\n"
     ]
    }
   ],
   "source": [
    "# Array\n",
    "print('Original array for swapping axes :\\n', arr)\n",
    "print()\n",
    "print('Swapping axes using the swapaxes function :\\n', arr.swapaxes(0,1))"
   ]
  },
  {
   "cell_type": "code",
   "execution_count": null,
   "id": "f8276304",
   "metadata": {},
   "outputs": [],
   "source": []
  }
 ],
 "metadata": {
  "kernelspec": {
   "display_name": "STATS",
   "language": "python",
   "name": "python3"
  },
  "language_info": {
   "codemirror_mode": {
    "name": "ipython",
    "version": 3
   },
   "file_extension": ".py",
   "mimetype": "text/x-python",
   "name": "python",
   "nbconvert_exporter": "python",
   "pygments_lexer": "ipython3",
   "version": "3.12.10"
  }
 },
 "nbformat": 4,
 "nbformat_minor": 5
}
