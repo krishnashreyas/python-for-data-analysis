{
 "cells": [
  {
   "cell_type": "code",
   "execution_count": 2,
   "id": "5593ac52",
   "metadata": {},
   "outputs": [],
   "source": [
    "import numpy as np"
   ]
  },
  {
   "cell_type": "markdown",
   "id": "662fb36e",
   "metadata": {},
   "source": [
    "<h2>Universal Functions: Fast Element-Wise Array\n",
    "Functions</h2>"
   ]
  },
  {
   "cell_type": "markdown",
   "id": "04690b66",
   "metadata": {},
   "source": [
    "<h3>Universal Function</h3>\n",
    "<p>A universal function, or ufunc, is a function that performs element-wise operations\n",
    "on data in ndarrays. You can think of them as fast vectorized wrappers for simple\n",
    "functions that take one or more scalar values and produce one or more scalar results</p>"
   ]
  },
  {
   "cell_type": "code",
   "execution_count": 8,
   "id": "1f2b3230",
   "metadata": {},
   "outputs": [
    {
     "name": "stdout",
     "output_type": "stream",
     "text": [
      "Original arr :\n",
      " [0 1 2 3 4 5 6 7 8 9]\n",
      "\n",
      "Elementwise square root using sqrt methond :\n",
      " [0.         1.         1.41421356 1.73205081 2.         2.23606798\n",
      " 2.44948974 2.64575131 2.82842712 3.        ]\n",
      "\n",
      "Elementwise exponents using exp methond :\n",
      " [1.00000000e+00 2.71828183e+00 7.38905610e+00 2.00855369e+01\n",
      " 5.45981500e+01 1.48413159e+02 4.03428793e+02 1.09663316e+03\n",
      " 2.98095799e+03 8.10308393e+03]\n",
      "\n"
     ]
    }
   ],
   "source": [
    "# Create array \n",
    "arr = np.arange(10)\n",
    "print('Original arr :\\n', arr)\n",
    "print()\n",
    "\n",
    "# sqrt of array\n",
    "print('Elementwise square root using sqrt methond :\\n', np.sqrt(arr))\n",
    "print()\n",
    "\n",
    "# exponent of array\n",
    "print('Elementwise exponents using exp methond :\\n', np.exp(arr))\n",
    "print()"
   ]
  },
  {
   "cell_type": "markdown",
   "id": "24536c89",
   "metadata": {},
   "source": [
    "<p>Others, such as numpy.add or numpy.maximum,\n",
    "take two arrays (thus, binary ufuncs) and return a single array as the result</p>"
   ]
  },
  {
   "cell_type": "code",
   "execution_count": 11,
   "id": "f60197af",
   "metadata": {},
   "outputs": [
    {
     "name": "stdout",
     "output_type": "stream",
     "text": [
      "x :\n",
      " [ 0.30471708 -1.03998411  0.7504512   0.94056472 -1.95103519 -1.30217951\n",
      "  0.1278404  -0.31624259]\n",
      "\n",
      "y :\n",
      " [ 0.30471708 -1.03998411  0.7504512   0.94056472 -1.95103519 -1.30217951\n",
      "  0.1278404  -0.31624259]\n",
      "\n",
      "Maximum of x and y elementwise using maximum method :\n",
      " [ 0.30471708 -1.03998411  0.7504512   0.94056472 -1.95103519 -1.30217951\n",
      "  0.1278404  -0.31624259]\n"
     ]
    }
   ],
   "source": [
    "# Example of binary unfunc\n",
    "x = np.random.default_rng(42).standard_normal(8)\n",
    "y = np.random.default_rng(42).standard_normal(8)\n",
    "print('x :\\n', x)\n",
    "print()\n",
    "print('y :\\n', y)\n",
    "print()\n",
    "print('Maximum of x and y elementwise using maximum method :\\n', np.maximum(x, y))"
   ]
  },
  {
   "cell_type": "markdown",
   "id": "c31fe68e",
   "metadata": {},
   "source": [
    "<p>In the above example, numpy.maximum computed the element-wise maximum of the elements\n",
    "in x and y.</p>"
   ]
  },
  {
   "cell_type": "markdown",
   "id": "7da29cf6",
   "metadata": {},
   "source": [
    "<p>While not common, a ufunc can return multiple arrays. numpy.modf is one example</p>"
   ]
  },
  {
   "cell_type": "code",
   "execution_count": 17,
   "id": "7759507e",
   "metadata": {},
   "outputs": [
    {
     "name": "stdout",
     "output_type": "stream",
     "text": [
      "Original arr :\n",
      " [0 1 2 3 4]\n",
      "\n",
      "arr after addition using out argument :\n",
      " [5 6 7 8 9]\n"
     ]
    }
   ],
   "source": [
    "# Ufuncs accept an optional out argument that allows them to assign their results into an existing array rather than create a new one\n",
    "arr = np.arange(5)\n",
    "print('Original arr :\\n', arr)\n",
    "print()\n",
    "np.add(arr, 5, out=arr)\n",
    "print('arr after addition using out argument :\\n', arr)\n"
   ]
  },
  {
   "cell_type": "markdown",
   "id": "79fe4d61",
   "metadata": {},
   "source": [
    "<h3>Some unary universal function</h3>\n",
    "\n",
    "\n",
    "| Function(s) | Description |\n",
    "|-------------|-------------|\n",
    "| `abs`, `fabs` | Compute the absolute value element-wise for integer, floating-point, or complex values |\n",
    "| `sqrt` | Compute the square root of each element (equivalent to `arr ** 0.5`) |\n",
    "| `square` | Compute the square of each element (equivalent to `arr ** 2`) |\n",
    "| `exp` | Compute the exponent `e^x` of each element |\n",
    "| `log`, `log10`, `log2`, `log1p` | Natural logarithm (base *e*), log base 10, log base 2, and `log(1 + x)`, respectively |\n",
    "| `sign` | Compute the sign of each element: `1` (positive), `0` (zero), or `–1` (negative) |\n",
    "| `ceil` | Compute the ceiling of each element (smallest integer ≥ x) |\n",
    "| `floor` | Compute the floor of each element (largest integer ≤ x) |\n",
    "| `rint` | Round elements to the nearest integer, preserving the dtype |\n",
    "| `modf` | Return fractional and integral parts of array as separate arrays |\n",
    "| `isnan` | Return Boolean array indicating whether each value is NaN (Not a Number) |\n",
    "| `isfinite`, `isinf` | Return Boolean array indicating whether each element is finite (non-inf, non-NaN) or infinite |\n",
    "| `cos`, `cosh`, `sin`, `sinh`, `tan`, `tanh` | Regular and hyperbolic trigonometric functions |\n",
    "| `arccos`, `arccosh`, `arcsin`, `arcsinh`, `arctan`, `arctanh` | Inverse trigonometric functions |\n",
    "| `logical_not` | Compute truth value of `not x` element-wise (equivalent to `~arr`) |\n"
   ]
  },
  {
   "cell_type": "markdown",
   "id": "4bface0e",
   "metadata": {},
   "source": [
    "<h3>Some binary universal function</h3>\n",
    "### NumPy Arithmetic and Logical Functions\n",
    "\n",
    "| Function(s) | Description |\n",
    "|-------------|-------------|\n",
    "| `add` | Add corresponding elements in arrays |\n",
    "| `subtract` | Subtract elements in second array from first array |\n",
    "| `multiply` | Multiply array elements |\n",
    "| `divide`, `floor_divide` | Divide or floor divide (truncating the remainder) |\n",
    "| `power` | Raise elements in first array to powers indicated in second array |\n",
    "| `maximum`, `fmax` | Element-wise maximum; `fmax` ignores NaN |\n",
    "| `minimum`, `fmin` | Element-wise minimum; `fmin` ignores NaN |\n",
    "| `mod` | Element-wise modulus (remainder of division) |\n",
    "| `copysign` | Copy sign of values in second argument to values in first argument |\n",
    "| `greater`, `greater_equal`, `less`, `less_equal`, `equal`, `not_equal` | Perform element-wise comparison, yielding Boolean array (equivalent to infix operators `>`, `>=`, `<`, `<=`, `==`, `!=`) |\n",
    "| `logical_and` | Compute element-wise truth value of AND (`&`) logical operation |\n",
    "| `logical_or` | Compute element-wise truth value of OR (`|`) logical operation |\n",
    "| `logical_xor` | Compute element-wise truth value of XOR (`^`) logical operation |\n"
   ]
  },
  {
   "cell_type": "code",
   "execution_count": null,
   "id": "efa590dc",
   "metadata": {},
   "outputs": [],
   "source": []
  }
 ],
 "metadata": {
  "kernelspec": {
   "display_name": "STATS",
   "language": "python",
   "name": "python3"
  },
  "language_info": {
   "codemirror_mode": {
    "name": "ipython",
    "version": 3
   },
   "file_extension": ".py",
   "mimetype": "text/x-python",
   "name": "python",
   "nbconvert_exporter": "python",
   "pygments_lexer": "ipython3",
   "version": "3.12.10"
  }
 },
 "nbformat": 4,
 "nbformat_minor": 5
}
