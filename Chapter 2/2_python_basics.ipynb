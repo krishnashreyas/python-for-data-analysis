{
 "cells": [
  {
   "cell_type": "markdown",
   "id": "c3634014",
   "metadata": {},
   "source": [
    "<h1>PythonBasics</h1>\n",
    "<h2>The Python Interpreter</h2>\n",
    "<p>Python is an interpreted language. Unlike compiled languages (like C or C++), Python doesn't translate the whole program into machine code at once. Instead, the Python interpreter reads and executes the code line by line, during runtime. There is no separate compilation step that converts the entire program into machine code.This makes development faster and more flexible, especially during debugging and experimentation.</p>"
   ]
  },
  {
   "cell_type": "markdown",
   "id": "d9546774",
   "metadata": {},
   "source": [
    "<h3>Introspection</h3>\n",
    "<p>Introspection is the ability of a program to examine the type or properties of an object. Python, being a highly dynamic language, provides powerful introspection capabilities.It allows developers to:\n",
    "<ul>\n",
    "<li> Check the type of an object</li>\n",
    "<li> List its attributes and methods</li>\n",
    "<li> Inspect its internal structure</li>\n",
    "<li> Dynamically interact with code</li>\n",
    "</ul>\n",
    "Using a question mark (?) before or after a variable will display some general information about the object. If the object is a function or instance method, the docstring, if defined, will also be shown.\n",
    "</p>"
   ]
  },
  {
   "cell_type": "code",
   "execution_count": 6,
   "id": "72372197",
   "metadata": {},
   "outputs": [
    {
     "name": "stdout",
     "output_type": "stream",
     "text": [
      "\u001b[31mType:\u001b[39m        list\n",
      "\u001b[31mString form:\u001b[39m [1, 2, 3]\n",
      "\u001b[31mLength:\u001b[39m      3\n",
      "\u001b[31mDocstring:\u001b[39m  \n",
      "Built-in mutable sequence.\n",
      "\n",
      "If no argument is given, the constructor creates a new empty list.\n",
      "The argument must be an iterable if specified."
     ]
    }
   ],
   "source": [
    "# Example of using the `?` operator in Python\n",
    "b = [1, 2, 3]\n",
    "b?\n"
   ]
  },
  {
   "cell_type": "code",
   "execution_count": 7,
   "id": "23548136",
   "metadata": {},
   "outputs": [
    {
     "name": "stdout",
     "output_type": "stream",
     "text": [
      "\u001b[31mSignature:\u001b[39m print(*args, sep=\u001b[33m' '\u001b[39m, end=\u001b[33m'\\n'\u001b[39m, file=\u001b[38;5;28;01mNone\u001b[39;00m, flush=\u001b[38;5;28;01mFalse\u001b[39;00m)\n",
      "\u001b[31mDocstring:\u001b[39m\n",
      "Prints the values to a stream, or to sys.stdout by default.\n",
      "\n",
      "sep\n",
      "  string inserted between values, default a space.\n",
      "end\n",
      "  string appended after the last value, default a newline.\n",
      "file\n",
      "  a file-like object (stream); defaults to the current sys.stdout.\n",
      "flush\n",
      "  whether to forcibly flush the stream.\n",
      "\u001b[31mType:\u001b[39m      builtin_function_or_method"
     ]
    }
   ],
   "source": [
    "# Another example of using the `?` operator in Python\n",
    "print?"
   ]
  },
  {
   "cell_type": "code",
   "execution_count": 8,
   "id": "694ee7d7",
   "metadata": {},
   "outputs": [
    {
     "name": "stdout",
     "output_type": "stream",
     "text": [
      "\u001b[31mSignature:\u001b[39m add_numbers(a, b)\n",
      "\u001b[31mDocstring:\u001b[39m\n",
      "Add two numbers together\n",
      "Returns\n",
      "-------\n",
      "the_sum : type of arguments\n",
      "\u001b[31mFile:\u001b[39m      c:\\users\\shreyas.krishna\\appdata\\local\\temp\\ipykernel_26508\\936813810.py\n",
      "\u001b[31mType:\u001b[39m      function"
     ]
    }
   ],
   "source": [
    "# Suppose we’d written the following function\n",
    "def add_numbers(a, b):\n",
    "    \"\"\"\n",
    "    Add two numbers together\n",
    "    Returns\n",
    "    -------\n",
    "    the_sum : type of arguments\n",
    "    \"\"\"\n",
    "    return a + b \n",
    "\n",
    "# We can use the `?` operator to get information about the function\n",
    "add_numbers?\n",
    "\n"
   ]
  },
  {
   "cell_type": "markdown",
   "id": "e469437d",
   "metadata": {},
   "source": [
    "<p>? has a final usage, which is for searching the IPython namespace in a manner similar to the standard Unix or Windows command line. A number of characters combined with the wildcard (*) will show all names matching the wildcard expression. For example, we could get a list of all functions in the top-level NumPy namespace containing load</p>"
   ]
  },
  {
   "cell_type": "code",
   "execution_count": 9,
   "id": "b3b0450e",
   "metadata": {},
   "outputs": [
    {
     "name": "stdout",
     "output_type": "stream",
     "text": [
      "np.__loader__\n",
      "np.load\n",
      "np.loadtxt"
     ]
    }
   ],
   "source": [
    "import numpy as np\n",
    "np.*load*?"
   ]
  },
  {
   "cell_type": "markdown",
   "id": "307d513c",
   "metadata": {},
   "source": [
    "<h3>Indentation</h3>\n",
    "<p>Python uses whitespace (tabs or spaces) to structure code instead of using braces as in many other languages like R, C++, Java, and Perl. Colon denotes the start of an indented code block after which all of the code must\n",
    "be indented by the same amount until the end of the block.</p>"
   ]
  },
  {
   "cell_type": "code",
   "execution_count": 10,
   "id": "279fd2df",
   "metadata": {},
   "outputs": [
    {
     "data": {
      "text/plain": [
       "'for x in array:               \\n    if x < pivot:                   \\n        less.append(x)              \\n    else:\\n        greater.append(x)'"
      ]
     },
     "execution_count": 10,
     "metadata": {},
     "output_type": "execute_result"
    }
   ],
   "source": [
    "# This cell exists to show how indentation works in python and does not execute.\n",
    "# Consider a for loop\n",
    "\n",
    "'''for x in array:               \n",
    "    if x < pivot:                   \n",
    "        less.append(x)              \n",
    "    else:\n",
    "        greater.append(x)'''"
   ]
  },
  {
   "cell_type": "markdown",
   "id": "edbf10c9",
   "metadata": {},
   "source": [
    "<p>Python statements also do not need to be terminated by\n",
    "semicolons. Semicolons can be used, however, to separate multiple statements on a\n",
    "single line</p>"
   ]
  },
  {
   "cell_type": "code",
   "execution_count": 11,
   "id": "17649791",
   "metadata": {},
   "outputs": [],
   "source": [
    "# Python code seperated by semi-colon\n",
    "a = 5; b = 6; c = 7"
   ]
  },
  {
   "cell_type": "markdown",
   "id": "6f58a06d",
   "metadata": {},
   "source": [
    "<h3>Variables and Argument Passing</h3>\n",
    "<p>When assigning a variable (or name) in Python, you are creating a reference to the object shown on the righthand side of the equals sign. In some languages, the assignment if b will cause the data [1, 2, 3] to be copied. In\n",
    "Python, a and b actually now refer to the same object, the original list [1, 2, 3]</p>"
   ]
  },
  {
   "cell_type": "code",
   "execution_count": 12,
   "id": "4eac0c93",
   "metadata": {},
   "outputs": [
    {
     "name": "stdout",
     "output_type": "stream",
     "text": [
      "[1, 2, 3]\n",
      "[1, 2, 3, 4]\n"
     ]
    }
   ],
   "source": [
    "# Create a list\n",
    "a = [1, 2, 3]\n",
    "\n",
    "# Assign a new variable to the same list\n",
    "b = a\n",
    "\n",
    "# Print b\n",
    "print(b)\n",
    "\n",
    "# Proof by appending to a then examining b\n",
    "a.append(4)\n",
    "\n",
    "# Print b again\n",
    "print(b)"
   ]
  },
  {
   "cell_type": "markdown",
   "id": "84d0e36a",
   "metadata": {},
   "source": [
    "<p>When you pass objects as arguments to a function, new local variables are created referencing the original objects without any copying. If you bind a new object to a variable inside a function, that will not overwrite a variable of the same name in the “scope” outside of the function (the “parent scope”). It is therefore possible to alter the internals of a mutable argument.</p>"
   ]
  },
  {
   "cell_type": "code",
   "execution_count": 13,
   "id": "c809caf6",
   "metadata": {},
   "outputs": [
    {
     "name": "stdout",
     "output_type": "stream",
     "text": [
      "[1, 2, 3, 4]\n"
     ]
    }
   ],
   "source": [
    "# Conside the example of a function\n",
    "def modify_list(lst):\n",
    "    lst.append(4)\n",
    "\n",
    "# Create a list\n",
    "my_list = [1, 2, 3]\n",
    "\n",
    "# Call the function\n",
    "modify_list(my_list)\n",
    "\n",
    "# Print the modified list\n",
    "print(my_list)\n",
    "\n",
    "\n",
    "# When assigning a variable (or name) in Python, you are creating a reference to the object shown on the righthand side of the equals sign. \n",
    "# In some languages, the assignment if b will cause the data [1, 2, 3] to be copied. In Python, a and b actually now refer to the same object, the original list [1, 2, 3].   "
   ]
  },
  {
   "cell_type": "markdown",
   "id": "ed6a9a77",
   "metadata": {},
   "source": [
    "<h3>Binary operators and comparisons</h3>\n",
    "<p>To check if two variables refer to the same object, use the is keyword. Use is not to\n",
    "check that two objects are not the same</p>"
   ]
  },
  {
   "cell_type": "code",
   "execution_count": 20,
   "id": "4802c6ac",
   "metadata": {},
   "outputs": [
    {
     "name": "stdout",
     "output_type": "stream",
     "text": [
      "a is b True\n",
      "a is c False\n",
      "a is not c True\n",
      "a == c True\n",
      "x is None True\n",
      "x is not None False\n"
     ]
    }
   ],
   "source": [
    "# To check if two variables refer to the same object, use the is keyword. Use is not to check that two objects are not the same.\n",
    "a = [1, 2, 3]\n",
    "b = a\n",
    "print('a is b', a is b)\n",
    "\n",
    "c = list(a)\n",
    "print('a is c', a is c)\n",
    "print('a is not c', a is not c)\n",
    "\n",
    "# Comparing two lists with the == operator checks whether their contents are the same, not whether they are the same object.\n",
    "print('a == c', a == c)\n",
    "\n",
    "# The is operator is useful for checking whether a variable is None, which is a special object in Python that represents the absence of a value.\n",
    "x = None\n",
    "print('x is None', x is None)\n",
    "print('x is not None', x is not None)"
   ]
  },
  {
   "cell_type": "markdown",
   "id": "44405a13",
   "metadata": {},
   "source": [
    "<h2>Scalar types</h2>\n",
    "<p>Python has a small set of built-in types for handling numerical data, strings, Boolean\n",
    "(True or False) values, and dates and time. These “single value” types are sometimes\n",
    "called scalar types, and we refer to them in this book as scalars .</p>"
   ]
  },
  {
   "cell_type": "markdown",
   "id": "230f6e8d",
   "metadata": {},
   "source": [
    "<h3>Numeric Types</h3>\n",
    "<p>The primary Python types for numbers are int and float.</p>"
   ]
  },
  {
   "cell_type": "code",
   "execution_count": 22,
   "id": "664341f6",
   "metadata": {},
   "outputs": [
    {
     "name": "stdout",
     "output_type": "stream",
     "text": [
      "x is an int: True\n",
      "y is a float: True\n",
      "5 / 2 = 2.5\n",
      "5 // 2 = 2\n"
     ]
    }
   ],
   "source": [
    "# An int is a whole number, while a float is a number with a decimal point.\n",
    "x = 5\n",
    "y = 5.0\n",
    "# Check the type of x and y. isinstance() checks if an object is an instance of a class or a subclass thereof.\n",
    "print('x is an int:', isinstance(x, int))\n",
    "print('y is a float:', isinstance(y, float))\n",
    "\n",
    "# Integer division not resulting in a whole number will result in a float.\n",
    "# For example, dividing 5 by 2 results in a float.\n",
    "print('5 / 2 =', 5 / 2)  # This will output 2.5, which is a float\n",
    "\n",
    "# Floor division is done using the // operator, which returns the largest integer less than or equal to the result of the division.\n",
    "print('5 // 2 =', 5 // 2)  # This will output 2, which is an int\n",
    "\n"
   ]
  },
  {
   "cell_type": "markdown",
   "id": "f91cc7cf",
   "metadata": {},
   "source": [
    "<h3>Strings</h3>\n",
    "<p>Python uses built-in string handling capabilities. You can write\n",
    "string literals using either single quotes ' or double quotes \"</p>\n"
   ]
  },
  {
   "cell_type": "code",
   "execution_count": 30,
   "id": "7341d3ea",
   "metadata": {},
   "outputs": [
    {
     "name": "stdout",
     "output_type": "stream",
     "text": [
      "3\n",
      "Hello, Python!\n",
      "string1: Hello, World!\n",
      "String representation of number: 42\n",
      "List of characters: ['p', 'y', 't', 'h', 'o', 'n']\n",
      "First character: p\n",
      "Last character: n\n",
      "First three characters: pyt\n",
      "Escaped string: It's a beautiful day!\n",
      "Raw string: This is a raw string with a backslash \\ and no escape sequences.\n",
      "Full greeting: Hello, Alice!\n",
      "Formatted string: Hello, Alice! Today is Monday.\n"
     ]
    }
   ],
   "source": [
    "# Strings in Python are sequences of characters enclosed in single or double quotes.\n",
    "# You can use single quotes ' or double quotes \" to create a string.\n",
    "# For example:\n",
    "string1 = 'Hello, World!'\n",
    "string2 = \"Python is great!\"\n",
    "\n",
    "# You can also use triple quotes for multi-line strings.\n",
    "multi_line_string = \"\"\"\n",
    "This is a string\n",
    "that spans multiple lines.\n",
    "\"\"\"\n",
    "# multi_line_string contains four lines of text.\n",
    "print(multi_line_string.count('\\n'))  # This will count the number of newlines in the string, which is 3 in this case.\n",
    "\n",
    "# Python strings are immutable, meaning you cannot change a character in a string directly.\n",
    "# For example, trying to change the first character of a string will result in an error.\n",
    "# string1[0] = 'h'  # This will raise a TypeError because strings are immutable.\n",
    "\n",
    "# To modify a string, use a function that returns a new string.\n",
    "# For example, you can use the replace() method to replace a substring with another substring.\n",
    "new_string = string1.replace('World', 'Python')\n",
    "print(new_string)  # This will output 'Hello, Python!'\n",
    "# The variable string1 remains unchanged.\n",
    "print('string1:', string1)  # This will still output 'Hello, World!'\n",
    "\n",
    "# Python objects can be converted to strings using the str() function.\n",
    "number = 42\n",
    "string_number = str(number)\n",
    "print('String representation of number:', string_number)  # This will output '42'\n",
    "\n",
    "# Strings are a sequence of characters, and can be treated like other sequences in Python.\n",
    "s = 'python'\n",
    "list_of_chars = list(s)\n",
    "print('List of characters:', list_of_chars)  # This will output ['p', 'y', 't', 'h', 'o', 'n']\n",
    "# Strings can be indexed and sliced.\n",
    "print('First character:', s[0])  # This will output 'p'\n",
    "print('Last character:', s[-1])  # This will output 'n'\n",
    "# Slicing a string\n",
    "print('First three characters:', s[:3])  # This will output 'pyt'\n",
    "\n",
    "# The backslash \\ is used to escape special characters in strings.\n",
    "# For example, to include a single quote in a string enclosed by single quotes, you can use a backslash.\n",
    "escaped_string = 'It\\'s a beautiful day!'\n",
    "print('Escaped string:', escaped_string)  # This will output \"It's a beautiful day!\"\n",
    "# You can also use raw strings by prefixing the string with an 'r' or 'R'.\n",
    "raw_string = r'This is a raw string with a backslash \\ and no escape sequences.'\n",
    "print('Raw string:', raw_string)  # This will output 'This is a raw string with a backslash \\ and no escape sequences.'\n",
    "\n",
    "# Additional strings together using the + operator.\n",
    "greeting = 'Hello'\n",
    "name = 'Alice'\n",
    "full_greeting = greeting + ', ' + name + '!'\n",
    "print('Full greeting:', full_greeting)  # This will output 'Hello, Alice!'\n",
    "\n",
    "# String templating allows you to create strings with placeholders that can be filled in with values.\n",
    "# You can use the format() method or f-strings (formatted string literals) for this.\n",
    "# Using the format() method\n",
    "formatted_string = 'Hello, {}! Today is {}.'.format(name, 'Monday')\n",
    "print('Formatted string:', formatted_string)  # This will output 'Hello, Alice! Today is Monday.'\n",
    "\n",
    "# Using f-strings (Python 3.6+)\n",
    "f_string = f'Hello, {name}! Today is Monday.'"
   ]
  },
  {
   "cell_type": "markdown",
   "id": "76ec0b14",
   "metadata": {},
   "source": [
    "<h3>Booleans</h3>\n",
    "<p>The two Boolean values in Python are written as True and False. Comparisons and\n",
    "other conditional expressions evaluate to either True or False.</p>"
   ]
  },
  {
   "cell_type": "code",
   "execution_count": 31,
   "id": "15f3fe09",
   "metadata": {},
   "outputs": [
    {
     "name": "stdout",
     "output_type": "stream",
     "text": [
      "a and b: False\n",
      "a or b: True\n",
      "not a: False\n",
      "int(True): 1\n",
      "int(False): 0\n"
     ]
    }
   ],
   "source": [
    "# Boolean values are combined using logical operators.\n",
    "# The and operator returns True if both operands are True, otherwise it returns False.\n",
    "# The or operator returns True if at least one operand is True, otherwise it returns False.\n",
    "# The not operator negates the value of a Boolean expression.\n",
    "# For example:\n",
    "a = True\n",
    "b = False\n",
    "print('a and b:', a and b)  # This will output False\n",
    "print('a or b:', a or b)    # This will output True\n",
    "print('not a:', not a)      # This will output False\n",
    "\n",
    "# When converted to numbers, True is 1 and False is 0.\n",
    "# You can use the int() function to convert Boolean values to integers.\n",
    "print('int(True):', int(True))   # This will output 1\n",
    "print('int(False):', int(False))  # This will output 0"
   ]
  },
  {
   "cell_type": "markdown",
   "id": "824d3ff9",
   "metadata": {},
   "source": [
    "<h2> Control Flow </h2>\n",
    "<p>Python has several built-in keywords for conditional logic, loops, and other standard\n",
    "control flow concepts found in other programming languages.</p>"
   ]
  },
  {
   "cell_type": "markdown",
   "id": "e36fdd83",
   "metadata": {},
   "source": [
    "<h3>if, elif, else</h3>"
   ]
  },
  {
   "cell_type": "code",
   "execution_count": 33,
   "id": "962e71c5",
   "metadata": {},
   "outputs": [
    {
     "name": "stdout",
     "output_type": "stream",
     "text": [
      "x is less than 15 but greater than or equal to 5\n",
      "Both conditions are True\n",
      "At least one condition is True\n"
     ]
    }
   ],
   "source": [
    "# The if statement is used to execute a block of code conditionally.\n",
    "# The elif (else if) statement allows you to check multiple conditions.\n",
    "x = 10\n",
    "if x < 5:\n",
    "    print('x is less than 5')\n",
    "\n",
    "# The else statement is used to execute a block of code if none of the previous conditions are met.\n",
    "elif x < 15:\n",
    "    print('x is less than 15 but greater than or equal to 5')\n",
    "elif x < 20:\n",
    "    print('x is less than 20 but greater than or equal to 15')\n",
    "\n",
    "# The else statement is used to execute a block of code if none of the previous conditions are met.\n",
    "else:\n",
    "    print('x is greater than or equal to 20')\n",
    "\n",
    "# Compound are evaluated from left to right, and the evaluation stops as soon as the result is determined.\n",
    "# For example, in the expression a and b, if a is False, b is not evaluated because the result is already determined to be False.\n",
    "# Similarly, in the expression a or b, if a is True, b is not evaluated \n",
    "# because the result is already determined to be True.\n",
    "# This is known as short-circuit evaluation.\n",
    "a = 5\n",
    "b = 10\n",
    "if a < 10 and b > 5:\n",
    "    print('Both conditions are True')\n",
    "c = 8\n",
    "d = 4\n",
    "if c > 5 or d < 10:\n",
    "    print('At least one condition is True')"
   ]
  },
  {
   "cell_type": "markdown",
   "id": "8d3dfb3e",
   "metadata": {},
   "source": [
    "<h3>for loops</h3>\n",
    "<p>for loops are for iterating over a collection (like a list or tuple) or an iterater.</p>"
   ]
  },
  {
   "cell_type": "code",
   "execution_count": 36,
   "id": "d76f00fa",
   "metadata": {},
   "outputs": [
    {
     "name": "stdout",
     "output_type": "stream",
     "text": [
      "Current number: 1\n",
      "Current number: 2\n",
      "Current number: 3\n",
      "Current number: 4\n",
      "Current number: 5\n",
      "Odd number: 1\n",
      "Odd number: 3\n",
      "Odd number: 5\n",
      "Number before 3: 1\n",
      "Number before 3: 2\n",
      "i: 0, j: 0\n",
      "i: 0, j: 1\n",
      "i: 0, j: 2\n",
      "i: 0, j: 3\n",
      "i: 1, j: 0\n",
      "i: 1, j: 1\n",
      "i: 1, j: 2\n",
      "i: 1, j: 3\n",
      "i: 2, j: 0\n",
      "i: 2, j: 1\n",
      "i: 3, j: 0\n",
      "i: 3, j: 1\n",
      "i: 3, j: 2\n",
      "i: 3, j: 3\n"
     ]
    }
   ],
   "source": [
    "# The standard syntax for a for loop is:\n",
    "# for variable in iterable:\n",
    "sequence = [1, 2, 3, 4, 5]\n",
    "for number in sequence:\n",
    "    print('Current number:', number)\n",
    "# The for loop iterates over each element in the sequence and prints it.\n",
    "# Continue keyword can be used to skip the rest of the current iteration and move to the next iteration.\n",
    "for number in sequence:\n",
    "    if number % 2 == 0:  # Check if the number is even\n",
    "        continue  # Skip the rest of the loop for even numbers\n",
    "    print('Odd number:', number)  # This will only print odd numbers\n",
    "# The break keyword can be used to exit the loop prematurely.\n",
    "for number in sequence:\n",
    "    if number == 3:  # Check if the number is 3\n",
    "        break  # Exit the loop when number is 3\n",
    "    print('Number before 3:', number)  # This will print numbers before 3\n",
    "# The while loop continues to execute as long as the condition is True.\n",
    "\n",
    "# The break keyword only exits the innermost loop.\n",
    "# If you have nested loops, you can use a label to break out of the outer loop.\n",
    "for i in range(4):\n",
    "    for j in range(4):\n",
    "        if i == 2 and j == 2:\n",
    "            break  # This will only break the inner loop\n",
    "        print(f'i: {i}, j: {j}')  # This will print all combinations of i and j until the break condition is met"
   ]
  },
  {
   "cell_type": "markdown",
   "id": "f9a86b75",
   "metadata": {},
   "source": [
    "<h3>While loops</h3>\n",
    "<p>A while loop specifies a condition and a block of code that is to be executed until the\n",
    "condition evaluates to False or the loop is explicitly ended with break</p>\n"
   ]
  },
  {
   "cell_type": "code",
   "execution_count": 38,
   "id": "e123ffc5",
   "metadata": {},
   "outputs": [
    {
     "name": "stdout",
     "output_type": "stream",
     "text": [
      "Current number: 1\n",
      "Current number: 2\n",
      "Current number: 3\n",
      "Current number: 4\n",
      "Current number: 5\n",
      "You entered: 1\n",
      "You entered: WHILE LOOPS!!\n",
      "You entered: exit\n"
     ]
    }
   ],
   "source": [
    "# While loops are used to repeatedly execute a block of code as long as a condition is True.\n",
    "# The syntax for a while loop is:\n",
    "'''while condition:\n",
    "    # Code block to be executed\n",
    "    pass  # Replace with actual code\n",
    "'''\n",
    "\n",
    "# For example, you can use a while loop to print numbers from 1 to 5\n",
    "i = 1\n",
    "while i <= 5:\n",
    "    print('Current number:', i)\n",
    "    i += 1  # Increment i by 1 in each iteration\n",
    "# The while loop continues until i is greater than 5.\n",
    "# You can also use a while loop to repeatedly ask for user input until a valid input is provided.\n",
    "user_input = ''\n",
    "while user_input.lower() != 'exit':\n",
    "    user_input = input('Enter something (type \"exit\" to quit): ')\n",
    "    print('You entered:', user_input)\n",
    "# The while loop continues until the user types 'exit'.\n"
   ]
  },
  {
   "cell_type": "markdown",
   "id": "1fe6821e",
   "metadata": {},
   "source": [
    "<h3>pass</h3>\n",
    "<p>pass is the “no-op” (or “do nothing”) statement in Python. It can be used in blocks\n",
    "where no action is to be taken (or as a placeholder for code not yet implemented)</p>"
   ]
  },
  {
   "cell_type": "code",
   "execution_count": 39,
   "id": "0ea4d8df",
   "metadata": {},
   "outputs": [],
   "source": [
    "# pass is a no-operation statement in Python. It is used as a placeholder in blocks of code where no action is to be taken.\n",
    "# It can be useful when you want to define a block of code but haven't implemented it yet.\n",
    "# For example, you can use pass in a function that you plan to implement later.\n",
    "def future_function():\n",
    "    pass  # Placeholder for future implementation\n",
    "\n",
    "# The pass statement does nothing and allows the code to run without errors.\n",
    "# You can use it in loops, functions, classes, or any block of code where you want to define a structure but not implement it yet\n",
    "x = 256\n",
    "# The pass statement is often used in control flow statements like if, for, and while loops.\n",
    "if x > 100:\n",
    "    pass  # Placeholder for future implementation of the if block\n"
   ]
  },
  {
   "cell_type": "markdown",
   "id": "c086f1c1",
   "metadata": {},
   "source": [
    "<h3>range</h3>\n",
    "<p>The range function generates a sequence of evenly spaced integers</p>"
   ]
  },
  {
   "cell_type": "code",
   "execution_count": 40,
   "id": "a451bd91",
   "metadata": {},
   "outputs": [
    {
     "name": "stdout",
     "output_type": "stream",
     "text": [
      "Current number: 0\n",
      "Current number: 1\n",
      "Current number: 2\n",
      "Current number: 3\n",
      "Current number: 4\n",
      "Current number: 5\n",
      "Odd number: 1\n",
      "Odd number: 3\n",
      "Odd number: 5\n",
      "Range as a list: [1, 2, 3, 4, 5]\n",
      "Counting down: 5\n",
      "Counting down: 4\n",
      "Counting down: 3\n",
      "Counting down: 2\n",
      "Counting down: 1\n"
     ]
    }
   ],
   "source": [
    "# range() is a built-in function in Python that generates a sequence of numbers.\n",
    "# It can be used in for loops to iterate over a range of numbers.\n",
    "# The syntax for range() is:\n",
    "# range(start, stop[, step])\n",
    "# where start is the starting number (inclusive), stop is the ending number (exclusive), and step is the increment (default is 1).\n",
    "# For example, to generate numbers from 0 to 5.\n",
    "for i in range(6):\n",
    "    print('Current number:', i)\n",
    "# You can also specify a starting point and a step value.\n",
    "for i in range(1, 6, 2):  # Start at 1\n",
    "    print('Odd number:', i)  # This will print odd numbers from 1 to 6\n",
    "# The range() function returns a range object, which is an iterable sequence of numbers.\n",
    "# You can convert it to a list if you want to see the actual numbers.\n",
    "print('Range as a list:', list(range(1, 6)))  # This will output [1, 2, 3, 4, 5]\n",
    "# The range() function can also be used to generate a sequence of numbers in reverse order.\n",
    "for i in range(5, 0, -1):  # Start at 5\n",
    "    print('Counting down:', i)  # This will print numbers from 5 to 1 in reverse order\n",
    "\n"
   ]
  },
  {
   "cell_type": "code",
   "execution_count": null,
   "id": "91c7b10f",
   "metadata": {},
   "outputs": [],
   "source": []
  }
 ],
 "metadata": {
  "kernelspec": {
   "display_name": "STATS",
   "language": "python",
   "name": "python3"
  },
  "language_info": {
   "codemirror_mode": {
    "name": "ipython",
    "version": 3
   },
   "file_extension": ".py",
   "mimetype": "text/x-python",
   "name": "python",
   "nbconvert_exporter": "python",
   "pygments_lexer": "ipython3",
   "version": "3.12.10"
  }
 },
 "nbformat": 4,
 "nbformat_minor": 5
}
