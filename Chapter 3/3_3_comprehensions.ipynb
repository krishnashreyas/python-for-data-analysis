{
 "cells": [
  {
   "cell_type": "markdown",
   "id": "260c4512",
   "metadata": {},
   "source": [
    "<h2>Comprehensions</h2>"
   ]
  },
  {
   "cell_type": "markdown",
   "id": "59963b5b",
   "metadata": {},
   "source": [
    "<h3>List comprehensions</h2>\n",
    "<p>List comprehensions are a convenient and widely used Python language feature. They\n",
    "allow you to concisely form a new list by filtering the elements of a collection,\n",
    "transforming the elements passing the filter into one concise expression\n",
    "\n",
    "<code>[expr for value in collection if condition]</code></p>"
   ]
  },
  {
   "cell_type": "code",
   "execution_count": 4,
   "id": "be4672d3",
   "metadata": {},
   "outputs": [
    {
     "name": "stdout",
     "output_type": "stream",
     "text": [
      "results: [4, 8]\n",
      "results with list comprehension: [4, 8]\n",
      "Uppercase strings containing \"a\": ['APPLE', 'BANANA']\n"
     ]
    }
   ],
   "source": [
    "# List comprehension equivalent to the above example\n",
    "results = []\n",
    "collection = [1, 2, 3, 4, 5]\n",
    "for value in collection:\n",
    "    if value % 2 == 0:\n",
    "        expr = value * 2\n",
    "        results.append(expr)\n",
    "\n",
    "print('results:', results)\n",
    "\n",
    "# Using list comprehension\n",
    "results = [value * 2 for value in collection if value % 2 == 0]\n",
    "print('results with list comprehension:', results)\n",
    "\n",
    "\n",
    "# Another example\n",
    "strings = ['apple', 'banana', 'cherry']\n",
    "results = [s.upper() for s in strings if 'a' in s]\n",
    "print('Uppercase strings containing \"a\":', results)"
   ]
  },
  {
   "cell_type": "markdown",
   "id": "c5bf2086",
   "metadata": {},
   "source": [
    "<h3>Dictionary comprehensions</h3>\n",
    "<p>Set and dictionary comprehensions are a natural extension, producing sets and dictionaries\n",
    "in an idiomatically similar way instead of lists.\n",
    "<br>\n",
    "A dictionary comprehension looks like this:\n",
    "<br>\n",
    "<code>dict_comp = {key-expr: value-expr for value in collection\n",
    "if condition}</code>\n",
    "\n",
    "A set comprehension looks like the equivalent list comprehension except with curly\n",
    "braces instead of square brackets:\n",
    "<br>\n",
    "<code>set_comp = {expr for value in collection if condition}</code>\n",
    "</p>"
   ]
  },
  {
   "cell_type": "code",
   "execution_count": 7,
   "id": "dd9116da",
   "metadata": {},
   "outputs": [
    {
     "name": "stdout",
     "output_type": "stream",
     "text": [
      "Squared values of data where value > 1: {'b': 4, 'c': 9}\n",
      "Set of even numbers: {2, 4, 6}\n",
      "Get lentgth of strings using map function {5, 6}\n",
      "Lookup map of strings: {'apple': 5, 'banana': 6, 'cherry': 6}\n"
     ]
    }
   ],
   "source": [
    "# Example of dictionary comprehension\n",
    "data = {'a': 1, 'b': 2, 'c': 3}\n",
    "squared_data = {k: v**2 for k, v in data.items() if v > 1}\n",
    "print('Squared values of data where value > 1:', squared_data)\n",
    "\n",
    "# Example of set comprehension\n",
    "numbers = [1, 2, 3, 4, 5, 6]\n",
    "even_numbers = {n for n in numbers if n % 2 == 0}\n",
    "print('Set of even numbers:', even_numbers)\n",
    "\n",
    "# map function equivalent\n",
    "# The length of first string in the list is not printed because set excludes duplicates\n",
    "print('Get lentgth of strings using map function',set(map(len, strings)))\n",
    "\n",
    "# We can create a look up map \n",
    "lookup_map = {s: len(s) for s in strings}\n",
    "print('Lookup map of strings:', lookup_map)"
   ]
  },
  {
   "cell_type": "markdown",
   "id": "2d7070c2",
   "metadata": {},
   "source": [
    "<p><b>Nest list comprehensions</b></p>"
   ]
  },
  {
   "cell_type": "code",
   "execution_count": 13,
   "id": "fd600a1e",
   "metadata": {},
   "outputs": [
    {
     "name": "stdout",
     "output_type": "stream",
     "text": [
      "Results with two or more a's: ['Maria']\n",
      "Nested list comprehension results: ['Maria']\n",
      "Flattened list of tuples: [1, 2, 3, 4, 5, 6]\n",
      "List of lists from tuples: [[1, 2], [3, 4], [5, 6]]\n"
     ]
    }
   ],
   "source": [
    "# Suppose we have a list of lists containing some English and Spanish names:\n",
    "names = [['John', 'Juan'], ['Mary', 'Maria'], ['James', 'Jaime']]\n",
    "\n",
    "# Using a simple loop we can get a list of names with two or more 'a's\n",
    "results = []\n",
    "for sublist in names:\n",
    "    for name in sublist:\n",
    "        if name.count('a') >= 2:\n",
    "            results.append(name)\n",
    "print('Results with two or more a\\'s:', results)\n",
    "\n",
    "# Get a single list of names with two or more a's\n",
    "nested_results = [name for sublist in names for name in sublist if name.count('a') >= 2]\n",
    "print('Nested list comprehension results:', nested_results)\n",
    "\n",
    "# An example of flattening list of tuples using list comprehension\n",
    "tuples = [(1, 2), (3, 4), (5, 6)]\n",
    "flatten = [tup for subtup in tuples for tup in subtup]\n",
    "print('Flattened list of tuples:', flatten)\n",
    "\n",
    "# Converting list of tuples to list of lists using list comprehension\n",
    "tup_lst = [[tup for tup in subtup] for subtup in tuples]\n",
    "print('List of lists from tuples:', tup_lst)"
   ]
  },
  {
   "cell_type": "code",
   "execution_count": null,
   "id": "cab0c8ad",
   "metadata": {},
   "outputs": [],
   "source": []
  }
 ],
 "metadata": {
  "kernelspec": {
   "display_name": "STATS",
   "language": "python",
   "name": "python3"
  },
  "language_info": {
   "codemirror_mode": {
    "name": "ipython",
    "version": 3
   },
   "file_extension": ".py",
   "mimetype": "text/x-python",
   "name": "python",
   "nbconvert_exporter": "python",
   "pygments_lexer": "ipython3",
   "version": "3.12.10"
  }
 },
 "nbformat": 4,
 "nbformat_minor": 5
}
