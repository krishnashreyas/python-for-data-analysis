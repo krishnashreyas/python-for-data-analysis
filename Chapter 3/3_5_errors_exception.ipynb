{
 "cells": [
  {
   "cell_type": "markdown",
   "id": "cd84191c",
   "metadata": {},
   "source": [
    "<h2>Errors and Exception Handling</h2>\n",
    "<p>Handling Python errors or exceptions gracefully is an important part of building\n",
    "robust programs.</p>"
   ]
  },
  {
   "cell_type": "code",
   "execution_count": 4,
   "id": "4482c6f4",
   "metadata": {},
   "outputs": [
    {
     "name": "stdout",
     "output_type": "stream",
     "text": [
      "Error\n",
      "ValueError suppressed\n",
      "ValueError or TypeError suppressed\n"
     ]
    }
   ],
   "source": [
    "# Float that fails gracefully\n",
    "float_value = float('nan')\n",
    "# Float that raises an exception\n",
    "try:\n",
    "    float_value = float('invalid')\n",
    "except :\n",
    "    print('Error')\n",
    "\n",
    "# Supress value errors\n",
    "try:\n",
    "    float_value = float('invalid')\n",
    "except ValueError:\n",
    "    print('ValueError suppressed')\n",
    "\n",
    "# Catch multiple exceptions\n",
    "try:\n",
    "    float_value = float('invalid')\n",
    "except (ValueError, TypeError):\n",
    "    print('ValueError or TypeError suppressed')\n",
    "\n"
   ]
  },
  {
   "cell_type": "code",
   "execution_count": 5,
   "id": "67a6c976",
   "metadata": {},
   "outputs": [
    {
     "name": "stdout",
     "output_type": "stream",
     "text": [
      "ValueError suppressed\n",
      "This will always execute\n"
     ]
    }
   ],
   "source": [
    "# Code to be executed regardless of whether or not the code in the try block succeeds.\n",
    "try:\n",
    "    float_value = float('invalid')\n",
    "except ValueError:\n",
    "    print('ValueError suppressed')\n",
    "finally:\n",
    "    print('This will always execute')\n",
    "    "
   ]
  },
  {
   "cell_type": "code",
   "execution_count": null,
   "id": "681bf41c",
   "metadata": {},
   "outputs": [],
   "source": []
  }
 ],
 "metadata": {
  "kernelspec": {
   "display_name": "STATS",
   "language": "python",
   "name": "python3"
  },
  "language_info": {
   "codemirror_mode": {
    "name": "ipython",
    "version": 3
   },
   "file_extension": ".py",
   "mimetype": "text/x-python",
   "name": "python",
   "nbconvert_exporter": "python",
   "pygments_lexer": "ipython3",
   "version": "3.12.10"
  }
 },
 "nbformat": 4,
 "nbformat_minor": 5
}
