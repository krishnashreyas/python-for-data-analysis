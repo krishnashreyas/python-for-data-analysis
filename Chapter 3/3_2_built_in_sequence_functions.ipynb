{
 "cells": [
  {
   "cell_type": "markdown",
   "id": "4418badd",
   "metadata": {},
   "source": [
    "<h2>Built-In Sequence Functions</h2>"
   ]
  },
  {
   "cell_type": "markdown",
   "id": "864a4db7",
   "metadata": {},
   "source": [
    "<h3>enumerate</h3>\n",
    "<p>when iterating over a sequence to keep track of the index of the\n",
    "current item.</p>"
   ]
  },
  {
   "cell_type": "code",
   "execution_count": 3,
   "id": "7e274915",
   "metadata": {},
   "outputs": [
    {
     "name": "stdout",
     "output_type": "stream",
     "text": [
      "When not using sequence functions:\n",
      "0 a\n",
      "1 b\n",
      "2 c\n",
      "when using enumerate:\n",
      "0 a\n",
      "1 b\n",
      "2 c\n"
     ]
    }
   ],
   "source": [
    "# enumerate without using sequence functions\n",
    "index = 0\n",
    "print('When not using sequence functions:')\n",
    "for item in ['a', 'b', 'c']:\n",
    "    print(index, item)\n",
    "    index += 1\n",
    "\n",
    "# The same can be achieved using the enumerate function\n",
    "print('when using enumerate:')\n",
    "for index, item in enumerate(['a', 'b', 'c']):\n",
    "    print(index, item)"
   ]
  },
  {
   "cell_type": "markdown",
   "id": "ac97bf38",
   "metadata": {},
   "source": [
    "<h3>Sorted</h3>\n",
    "<p>The sorted function returns a new sorted list from the elements of any sequence</p>"
   ]
  },
  {
   "cell_type": "code",
   "execution_count": 8,
   "id": "98c135ac",
   "metadata": {},
   "outputs": [
    {
     "name": "stdout",
     "output_type": "stream",
     "text": [
      "Sorted function example:\n",
      "Unsorted list: [3, 1, 4, 2]\n",
      "Sorted list: [1, 2, 3, 4]\n",
      "Sorted on strings:\n",
      "Unsorted strings: horse race\n",
      "Sorted strings: [' ', 'a', 'c', 'e', 'e', 'h', 'o', 'r', 'r', 's']\n"
     ]
    }
   ],
   "source": [
    "# Sorted function example\n",
    "print('Sorted function example:')\n",
    "unsorted_list = [3, 1, 4, 2]\n",
    "sorted_list = sorted(unsorted_list)\n",
    "print('Unsorted list:', unsorted_list)\n",
    "print('Sorted list:', sorted_list)\n",
    "\n",
    "# Sorted on strings\n",
    "print('Sorted on strings:')\n",
    "unsorted_strings = 'horse race'\n",
    "sorted_strings = sorted(unsorted_strings)\n",
    "print('Unsorted strings:', unsorted_strings)\n",
    "print('Sorted strings:', sorted_strings)"
   ]
  },
  {
   "cell_type": "markdown",
   "id": "b06c0694",
   "metadata": {},
   "source": [
    "<h3>Zip</h3>\n",
    "<p>zip “pairs” up the elements of a number of lists, tuples, or other sequences to create a\n",
    "list of tuples</p>"
   ]
  },
  {
   "cell_type": "code",
   "execution_count": 11,
   "id": "58c18db8",
   "metadata": {},
   "outputs": [
    {
     "name": "stdout",
     "output_type": "stream",
     "text": [
      "Zipped result: [(1, ('a', 'z')), (2, 'b'), (3, 'c')]\n",
      "Zipped with different lengths: [(1, 'a'), (2, 'b')]\n"
     ]
    }
   ],
   "source": [
    "# Example of zip function\n",
    "list1 = [1, 2, 3]\n",
    "list2 = [('a','z'), 'b', 'c']\n",
    "zipped = zip(list1, list2)\n",
    "print('Zipped result:', list(zipped))\\\n",
    "\n",
    "# Zip when the lists are of different lengths\n",
    "list1 = [1, 2, 3]\n",
    "list2 = ['a', 'b']\n",
    "zipped_diff_length = zip(list1, list2)\n",
    "print('Zipped with different lengths:', list(zipped_diff_length))"
   ]
  },
  {
   "cell_type": "markdown",
   "id": "c101c87d",
   "metadata": {},
   "source": [
    "<h3>reversed</h3>\n",
    "<p>reversed iterates over the elements of a sequence in reverse order:</p>"
   ]
  },
  {
   "cell_type": "code",
   "execution_count": 12,
   "id": "442a54da",
   "metadata": {},
   "outputs": [
    {
     "name": "stdout",
     "output_type": "stream",
     "text": [
      "Reversed list: [5, 4, 3, 2, 1]\n"
     ]
    }
   ],
   "source": [
    "# Example of reversed function\n",
    "reversed_list = reversed([1, 2, 3, 4, 5])\n",
    "print('Reversed list:', list(reversed_list))"
   ]
  },
  {
   "cell_type": "code",
   "execution_count": null,
   "id": "bd60d965",
   "metadata": {},
   "outputs": [],
   "source": []
  }
 ],
 "metadata": {
  "kernelspec": {
   "display_name": "STATS",
   "language": "python",
   "name": "python3"
  },
  "language_info": {
   "codemirror_mode": {
    "name": "ipython",
    "version": 3
   },
   "file_extension": ".py",
   "mimetype": "text/x-python",
   "name": "python",
   "nbconvert_exporter": "python",
   "pygments_lexer": "ipython3",
   "version": "3.12.10"
  }
 },
 "nbformat": 4,
 "nbformat_minor": 5
}
