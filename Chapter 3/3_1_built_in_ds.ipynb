{
 "cells": [
  {
   "cell_type": "markdown",
   "id": "b5d336cc",
   "metadata": {},
   "source": [
    "<h2>Data Structures and Sequences</h2>"
   ]
  },
  {
   "cell_type": "markdown",
   "id": "d377bf42",
   "metadata": {},
   "source": [
    "<h3>Tuple</h3>\n",
    "<p>A tuple is a fixed-length, immutable sequence of Python objects which, once assigned,\n",
    "cannot be changed. The easiest way to create one is with a comma-separated\n",
    "sequence of values wrapped in parentheses</p>"
   ]
  },
  {
   "cell_type": "code",
   "execution_count": 1,
   "id": "a3427f4b",
   "metadata": {},
   "outputs": [
    {
     "name": "stdout",
     "output_type": "stream",
     "text": [
      "(4, 5, 6)\n"
     ]
    }
   ],
   "source": [
    "# A tuple is a fixed-length, immutable sequence of Python objects which, once assigned,\n",
    "# cannot be changed. The easiest way to create one is with a comma-separated\n",
    "# sequence of values wrapped in parentheses\n",
    "tup = (4, 5, 6)\n",
    "print(tup)\n"
   ]
  },
  {
   "cell_type": "code",
   "execution_count": 4,
   "id": "4427e733",
   "metadata": {},
   "outputs": [
    {
     "name": "stdout",
     "output_type": "stream",
     "text": [
      "(1, 2, 3)\n",
      "('h', 'e', 'l', 'l', 'o')\n",
      "4\n"
     ]
    }
   ],
   "source": [
    "# Variable can be converted to a tuple using the tuple() function\n",
    "tup2 = tuple([1, 2, 3])\n",
    "print(tup2)\n",
    "\n",
    "# Strings can be converted to tuples as well\n",
    "tup3 = tuple('hello')\n",
    "print(tup3)\n",
    "\n",
    "# Sequences are 0-indexed, so the first element is at index 0\n",
    "print(tup[0])"
   ]
  },
  {
   "cell_type": "code",
   "execution_count": null,
   "id": "8c878eff",
   "metadata": {},
   "outputs": [
    {
     "name": "stdout",
     "output_type": "stream",
     "text": [
      "(4, 5, (6, 7))\n",
      "(6, 7)\n",
      "6\n"
     ]
    }
   ],
   "source": [
    "# nested tuples\n",
    "nested_tup = (4, 5, (6, 7))\n",
    "print(nested_tup)\n",
    "# Accessing elements in nested tuples\n",
    "print(nested_tup[2])\n",
    "# Accessing elements in nested tuples\n",
    "print(nested_tup[2][0])"
   ]
  },
  {
   "cell_type": "code",
   "execution_count": null,
   "id": "7449e8fa",
   "metadata": {},
   "outputs": [
    {
     "name": "stdout",
     "output_type": "stream",
     "text": [
      "([1, 2, 3], 4, 5)\n",
      "([10, 2, 3], 4, 5)\n"
     ]
    }
   ],
   "source": [
    "# Objects inside a tuple may be mutable, such as lists but the tuple itself cannot be changed\n",
    "'''\n",
    " tup[0] = 10  # This will raise a TypeError\n",
    " \n",
    " '''\n",
    "\n",
    "# However, you can modify the contents of a mutable object inside a tuple\n",
    "mutable_list = [1, 2, 3]\n",
    "tup_with_list = (mutable_list, 4, 5)\n",
    "print(tup_with_list)\n",
    "mutable_list[0] = 10\n",
    "print(tup_with_list)  # The tuple itself remains unchanged, but the list inside it is modified\n",
    "\n"
   ]
  },
  {
   "cell_type": "code",
   "execution_count": null,
   "id": "811d2b77",
   "metadata": {},
   "outputs": [
    {
     "name": "stdout",
     "output_type": "stream",
     "text": [
      "(1, 2, 3, 4)\n",
      "(1, 2, 1, 2, 1, 2)\n"
     ]
    }
   ],
   "source": [
    "# Tuples can be concatenated.\n",
    "tup1 = (1, 2)\n",
    "tup2 = (3, 4)\n",
    "tup_concat = tup1 + tup2\n",
    "print(tup_concat)  # Output: (1, 2, 3, 4)\n",
    "\n",
    "# Multiplication of tuples creates a new tuple with repeated elements.\n",
    "tup_mult = tup1 * 3\n",
    "print(tup_mult)  # Output: (1, 2, 1, 2, 1, 2)"
   ]
  },
  {
   "cell_type": "markdown",
   "id": "7ee21ec0",
   "metadata": {},
   "source": [
    "<p><b>Unpacking Tuples</b></p>\n",
    "<p>If you try to assign to a tuple-like expression of variables, Python will attempt to\n",
    "unpack the value on the righthand side of the equals sign</p>"
   ]
  },
  {
   "cell_type": "code",
   "execution_count": null,
   "id": "732587f1",
   "metadata": {},
   "outputs": [
    {
     "name": "stdout",
     "output_type": "stream",
     "text": [
      "1 2\n",
      "3 4 5\n",
      "1 2 3 4\n",
      "1\n",
      "[2, 3, 4, 5]\n",
      "1\n",
      "[2, 3, 4]\n",
      "5\n",
      "1\n",
      "[2, (3, 4)]\n",
      "5\n"
     ]
    }
   ],
   "source": [
    "# Unpacking Tuples\n",
    "a, b = (1, 2)\n",
    "print(a, b)  # Output: 1 2\n",
    "\n",
    "# Sequences can be unpacked into multiple variables\n",
    "x, y, z = (3, 4, 5)\n",
    "print(x, y, z)  # Output: 3 4 5\n",
    "\n",
    "# Nested unpacking\n",
    "nested_tuple = (1, (2, 3), 4)\n",
    "a, (b, c), d = nested_tuple\n",
    "print(a, b, c, d)  # Output: 1 2 3 4"
   ]
  },
  {
   "cell_type": "code",
   "execution_count": 13,
   "id": "19ae6dac",
   "metadata": {},
   "outputs": [
    {
     "name": "stdout",
     "output_type": "stream",
     "text": [
      "20 10\n"
     ]
    }
   ],
   "source": [
    "# Swapping values using tuple unpacking\n",
    "x, y = 10, 20\n",
    "x, y = y, x\n",
    "print(x, y)  # Output: 20 10"
   ]
  },
  {
   "cell_type": "code",
   "execution_count": 14,
   "id": "bed624dc",
   "metadata": {},
   "outputs": [
    {
     "name": "stdout",
     "output_type": "stream",
     "text": [
      "1 2\n",
      "3 4\n",
      "5 6\n"
     ]
    }
   ],
   "source": [
    "# Common use of variable unpacking is to extract values from a function that returns multiple values\n",
    "seq = [(1, 2), (3, 4), (5, 6)]\n",
    "for a, b in seq:\n",
    "    print(a, b)"
   ]
  },
  {
   "cell_type": "code",
   "execution_count": 16,
   "id": "276b749a",
   "metadata": {},
   "outputs": [
    {
     "name": "stdout",
     "output_type": "stream",
     "text": [
      "1\n",
      "[2, 3, 4, 5]\n",
      "1\n",
      "[2, 3, 4]\n",
      "5\n",
      "1\n",
      "[2, (3, 4)]\n",
      "5\n",
      "1 3\n"
     ]
    }
   ],
   "source": [
    "# Unpacking with an asterisk\n",
    "first, *rest = (1, 2, 3, 4, 5)\n",
    "print(first)  # Output: 1\n",
    "print(rest)   # Output: [2, 3, 4, 5]\n",
    "\n",
    "# Unpacking with an asterisk in nested tuples\n",
    "first, *middle, last = (1, 2, 3, 4, 5)\n",
    "print(first)\n",
    "print(middle)  # Output: [2, 3, 4]\n",
    "print(last)    # Output: 5\n",
    "\n",
    "# Unpacking with an asterisk in nested tuples\n",
    "first, *middle, last = (1, 2, (3, 4), 5)\n",
    "print(first)\n",
    "print(middle)  # Output: [2, (3, 4)]\n",
    "print(last)    # Output: 5\n",
    "\n",
    "# __ is often used as a throwaway variable in unpacking\n",
    "first, _, last = (1, 2, 3)\n",
    "print(first, last)  # Output: 1 3"
   ]
  },
  {
   "cell_type": "markdown",
   "id": "d47d011f",
   "metadata": {},
   "source": [
    "<p><b>Tuple Methods</b></h4>\n",
    "<p>Since the size and contents of a tuple cannot be modified, it is very light on instance\n",
    "methods.</p>"
   ]
  },
  {
   "cell_type": "code",
   "execution_count": 18,
   "id": "7b5b6c7b",
   "metadata": {},
   "outputs": [
    {
     "name": "stdout",
     "output_type": "stream",
     "text": [
      "2\n",
      "1\n"
     ]
    }
   ],
   "source": [
    "# count() and index() methods\n",
    "# count() returns the number of occurrences of a value in the tuple\n",
    "tup = (1, 2, 3, 1, 2, 3)\n",
    "print(tup.count(1))\n",
    "# index() returns the index of the first occurrence of a value in the tuple\n",
    "print(tup.index(2))  # Output: 1 (the first occurrence of 2)\n"
   ]
  },
  {
   "cell_type": "markdown",
   "id": "338dcabc",
   "metadata": {},
   "source": [
    "<h3>List</h3>\n",
    "<p>Lists are variable length and their contents can be modified in\n",
    "place. Lists are mutable.</p>"
   ]
  },
  {
   "cell_type": "code",
   "execution_count": 19,
   "id": "54b62ce0",
   "metadata": {},
   "outputs": [
    {
     "name": "stdout",
     "output_type": "stream",
     "text": [
      "[1, 2, 3, 4, 5]\n",
      "['a', 'b', 'c']\n",
      "[1, 'two', 3.0, [4, 5]]\n"
     ]
    }
   ],
   "source": [
    "# Lists can be created using square brackets\n",
    "my_list = [1, 2, 3, 4, 5]\n",
    "print(my_list)\n",
    "\n",
    "# List with string elements\n",
    "my_list_2 = ['a', 'b', 'c']\n",
    "print(my_list_2)\n",
    "\n",
    "# Lists can contain mixed data types\n",
    "my_mixed_list = [1, 'two', 3.0, [4, 5]]\n",
    "print(my_mixed_list)"
   ]
  },
  {
   "cell_type": "markdown",
   "id": "34068a4d",
   "metadata": {},
   "source": [
    "<p><b>Adding and removing elements</b></p>\n",
    "<P>Elements can be appended to the end of the list with the append method</p>"
   ]
  },
  {
   "cell_type": "code",
   "execution_count": 20,
   "id": "cb1ea276",
   "metadata": {},
   "outputs": [
    {
     "name": "stdout",
     "output_type": "stream",
     "text": [
      "Before appending: [1, 2, 3, 4, 5]\n",
      "After appending [1, 2, 3, 4, 5, 6]\n",
      "After inserting: [1, 2, 'inserted', 3, 4, 5, 6]\n"
     ]
    }
   ],
   "source": [
    "# Appending elements to a list\n",
    "print('Before appending:', my_list)\n",
    "my_list.append(6)\n",
    "print('After appending',my_list)  # Output: [1, 2, 3, 4, 5, 6]\n",
    "\n",
    "# Inserting elements at a specific position\n",
    "my_list.insert(2, 'inserted')\n",
    "print('After inserting:', my_list)  # Output: [1, 2, 'inserted', 3, 4, 5, 6]"
   ]
  },
  {
   "cell_type": "markdown",
   "id": "8d8cf161",
   "metadata": {},
   "source": [
    "<p>Inserting is computationally expensive compared with append,\n",
    "because references to subsequent elements have to be shifted internally\n",
    "to make room for the new element. If you need to insert\n",
    "elements at both the beginning and end of a sequence, you may\n",
    "wish to explore collections.deque, a double-ended queue, which\n",
    "is optimized for this purpose and found in the Python Standard\n",
    "Library.</p>"
   ]
  },
  {
   "cell_type": "code",
   "execution_count": 21,
   "id": "2ff494f0",
   "metadata": {},
   "outputs": [
    {
     "name": "stdout",
     "output_type": "stream",
     "text": [
      "Before popping: [1, 2, 'inserted', 3, 4, 5, 6]\n",
      "After popping: [1, 2, 'inserted', 3, 4, 5]\n"
     ]
    }
   ],
   "source": [
    "# Inverse to insert is pop, which removes and returns the last element of the list\n",
    "print('Before popping:', my_list)\n",
    "last_element = my_list.pop()\n",
    "print('After popping:', my_list)"
   ]
  },
  {
   "cell_type": "code",
   "execution_count": null,
   "id": "30319009",
   "metadata": {},
   "outputs": [],
   "source": [
    "# Elements can be removed by value using remove()\n",
    "print('Before removing \"inserted\":', my_list)\n",
    "my_list.remove('inserted')\n",
    "print('After removing \"inserted\":', my_list)  # Output: [1, 2, 3, 4, 5]"
   ]
  },
  {
   "cell_type": "code",
   "execution_count": 23,
   "id": "67ec4fee",
   "metadata": {},
   "outputs": [
    {
     "name": "stdout",
     "output_type": "stream",
     "text": [
      "Does my_list contain 3? True\n",
      "Does my_list contain 10? False\n",
      "Does my_list not contain 10? True\n",
      "Does my_list not contain 3? False\n"
     ]
    }
   ],
   "source": [
    "# Check if list contains an element\n",
    "print('Does my_list contain 3?', 3 in my_list)  # Output: True\n",
    "print('Does my_list contain 10?', 10 in my_list)  # Output: False\n",
    "\n",
    "# The keyword not in can be used to check if an element is not in the list\n",
    "print('Does my_list not contain 10?', 10 not in my_list)\n",
    "# To negate in, you can use not in\n",
    "print('Does my_list not contain 3?', 3 not in my_list)"
   ]
  },
  {
   "cell_type": "markdown",
   "id": "0c24ae65",
   "metadata": {},
   "source": [
    "<p><b> Cancatenating and combining lists</b></p>"
   ]
  },
  {
   "cell_type": "code",
   "execution_count": null,
   "id": "287ee103",
   "metadata": {},
   "outputs": [],
   "source": [
    "# Adding two lists together concatenates them\n",
    "print('Concatenating lists:', my_list + my_list_2)  # Output: [1, 2, 3, 4, 5, 'a', 'b', 'c']\n",
    "# Append multiple elements to a list using extend()\n",
    "my_list.extend(my_list_2)\n",
    "print('After extending my_list with my_list_2:', my_list)  # Output: [1, 2, 3, 4, 5, 'a', 'b', 'c']"
   ]
  },
  {
   "cell_type": "markdown",
   "id": "720e70f5",
   "metadata": {},
   "source": [
    "<p>Note that list concatenation by addition is a comparatively expensive operation since\n",
    "a new list must be created and the objects copied over. Using extend to append\n",
    "elements to an existing list, especially if you are building up a large list, is usually\n",
    "preferable.</p>"
   ]
  },
  {
   "cell_type": "markdown",
   "id": "26df6474",
   "metadata": {},
   "source": [
    "<p><b>Sorting</b></p>"
   ]
  },
  {
   "cell_type": "code",
   "execution_count": 33,
   "id": "eb66472e",
   "metadata": {},
   "outputs": [
    {
     "name": "stdout",
     "output_type": "stream",
     "text": [
      "Before sorting: [3, 1, 4, 2, 5]\n",
      "After sorting: [1, 2, 3, 4, 5]\n",
      "Before sorting by length: ['saw', 'small', 'He', 'foxes', 'six']\n",
      "After sorting by length: ['He', 'saw', 'six', 'small', 'foxes']\n"
     ]
    }
   ],
   "source": [
    "# Sort list in place by calling sort()\n",
    "unsorted_list = [3, 1, 4, 2, 5]\n",
    "print('Before sorting:', unsorted_list)\n",
    "unsorted_list.sort()\n",
    "print('After sorting:', unsorted_list)  # Output: [1, 2, 3, 4, 5]\n",
    "\n",
    "# Secondary sort key can be specified using the key parameter\n",
    "# For example, sorting a list of tuples by the second element\n",
    "unsorted_string_list = [\"saw\", \"small\", \"He\", \"foxes\", \"six\"]\n",
    "print('Before sorting by length:', unsorted_string_list)\n",
    "# This will sort the strings by their length\n",
    "unsorted_string_list.sort(key=len)\n",
    "print('After sorting by length:', unsorted_string_list)"
   ]
  },
  {
   "cell_type": "markdown",
   "id": "186b0a1c",
   "metadata": {},
   "source": [
    "<p><b>Slicinig<b></p>\n",
    "<p>You can select sections of most sequence types by using slice notation, which in its\n",
    "basic form consists of start:stop passed to the indexing operator []</p>"
   ]
  },
  {
   "cell_type": "code",
   "execution_count": null,
   "id": "ae6e8b6a",
   "metadata": {},
   "outputs": [
    {
     "name": "stdout",
     "output_type": "stream",
     "text": [
      "Original sequence: [1, 2, 3, 4, 5, 6, 7, 8, 9]\n",
      "Slicing seq from index 2 to 5: [3, 4, 5]\n",
      "After assigning a slice: [1, 2, 10, 11, 12, 6, 7, 8, 9]\n"
     ]
    }
   ],
   "source": [
    "# Slicing\n",
    "seq = [1, 2, 3, 4, 5, 6, 7, 8, 9]\n",
    "print('Original sequence:', seq)\n",
    "\n",
    "# Slicing a list to get elements from index 2 to 5 (exclusive)\n",
    "print('Slicing seq from index 2 to 5:', seq[2:5])\n",
    "\n",
    "# Slice can be assigned with a sequence\n",
    "seq[2:5] = [10, 11, 12]\n",
    "print('After assigning a slice:', seq)  # Output: [1, 2, 10, 11, 12, 6, 7, 8, 9]"
   ]
  },
  {
   "cell_type": "markdown",
   "id": "beaa8073",
   "metadata": {},
   "source": [
    "<P>While the element at the start index is included, the stop index is not included, so\n",
    "that the number of elements in the result is stop - start.</P>"
   ]
  },
  {
   "cell_type": "markdown",
   "id": "0f42a2c8",
   "metadata": {},
   "source": [
    "<P>Either the start or stop can be omitted, in which case they default to the start of the\n",
    "sequence and the end of the sequence, respectively</P>"
   ]
  },
  {
   "cell_type": "code",
   "execution_count": 36,
   "id": "98f9e33f",
   "metadata": {},
   "outputs": [
    {
     "name": "stdout",
     "output_type": "stream",
     "text": [
      "Slicing without start. [1, 2, 10, 11, 12]\n",
      "Slicing with only start: [6, 7, 8, 9]\n",
      "Slicing with negative indices: [7, 8, 9]\n",
      "Slicing with negative indices: [12, 6, 7]\n",
      "Slicing with step 2: [1, 10, 12, 7, 9]\n",
      "Reversing the list: [9, 8, 7, 6, 12, 11, 10, 2, 1]\n"
     ]
    }
   ],
   "source": [
    "# Slice without specifying start and stop\n",
    "print('Slicing without start.', seq[:5])  # Output: [1, 2, 3, 4, 5]\n",
    "\n",
    "# Slice with only start specified\n",
    "print('Slicing with only start:', seq[5:])  # Output: [6, 7, 8, 9]\n",
    "\n",
    "# Negative slicing\n",
    "print('Slicing with negative indices:', seq[-3:])  # Output: [7, 8, 9]\n",
    "print('Slicing with negative indices:', seq[-5:-2])  # Output: [5, 6, 7]\n",
    "\n",
    "# Slicing with step\n",
    "print('Slicing with step 2:', seq[::2])\n",
    "\n",
    "# Slicing with step -1 (reversing the list)\n",
    "print('Reversing the list:', seq[::-1])  # Output: [9, 8, 7, 6, 12, 11, 10, 3, 2, 1]"
   ]
  },
  {
   "cell_type": "markdown",
   "id": "2d9564bc",
   "metadata": {},
   "source": [
    "<h3>Dictionary</h3>\n",
    "<p>The dictionary or dict may be the most important built-in Python data structure.A dictionary stores a collection of key-value pairs, where key and\n",
    "value are Python objects. Each key is associated with a value so that a value can\n",
    "be conveniently retrieved, inserted, modified, or deleted given a particular key.</p>"
   ]
  },
  {
   "cell_type": "code",
   "execution_count": 42,
   "id": "fd77f93d",
   "metadata": {},
   "outputs": [
    {
     "name": "stdout",
     "output_type": "stream",
     "text": [
      "Dictionary: {'name': 'Alice', 'age': 30, 'city': 'New York'}\n"
     ]
    }
   ],
   "source": [
    "# Dictionary can be created using curly braces {}.\n",
    "my_dict = {'name': 'Alice', 'age': 30, 'city': 'New York'}\n",
    "print('Dictionary:', my_dict)"
   ]
  },
  {
   "cell_type": "markdown",
   "id": "3331f815",
   "metadata": {},
   "source": [
    "<p>You can access, insert, or set elements using the same syntax as for accessing elements\n",
    "of a list or tuple</p>"
   ]
  },
  {
   "cell_type": "code",
   "execution_count": 43,
   "id": "dc9e2983",
   "metadata": {},
   "outputs": [
    {
     "name": "stdout",
     "output_type": "stream",
     "text": [
      "After adding country: {'name': 'Alice', 'age': 30, 'city': 'New York', 'country': 'USA'}\n",
      "Name: Alice\n",
      "Age: 30\n"
     ]
    }
   ],
   "source": [
    "# Inserting a new key-value pair\n",
    "my_dict['country'] = 'USA'\n",
    "print('After adding country:', my_dict)  # Output: {'name': 'Alice', 'age': 30, 'city': 'New York', 'country': 'USA'}\n",
    "\n",
    "# Accessing values by key\n",
    "print('Name:', my_dict['name'])  # Output: Alice\n",
    "print('Age:', my_dict['age'])    # Output: 30\n"
   ]
  },
  {
   "cell_type": "markdown",
   "id": "70a9b526",
   "metadata": {},
   "source": [
    "<p>You can check if a dictionary contains a key using the same syntax used for checking\n",
    "whether a list or tuple contains a value</p>"
   ]
  },
  {
   "cell_type": "code",
   "execution_count": 44,
   "id": "ce9b6443",
   "metadata": {},
   "outputs": [
    {
     "name": "stdout",
     "output_type": "stream",
     "text": [
      "Does my_dict contain \"Alice\"? True\n",
      "Does my_dict contain \"Bob\"? False\n"
     ]
    }
   ],
   "source": [
    "# Check if value exists in the dictionary\n",
    "print('Does my_dict contain \"Alice\"?', 'Alice' in my_dict.values())  # Output: True\n",
    "print('Does my_dict contain \"Bob\"?', 'Bob' in my_dict.values())      # Output: False"
   ]
  },
  {
   "cell_type": "markdown",
   "id": "4b024ed7",
   "metadata": {},
   "source": [
    "<p>You can delete values using either the del keyword or the pop method</p>"
   ]
  },
  {
   "cell_type": "code",
   "execution_count": 45,
   "id": "a3bce27c",
   "metadata": {},
   "outputs": [
    {
     "name": "stdout",
     "output_type": "stream",
     "text": [
      "After deleting city: {'name': 'Alice', 'age': 30, 'country': 'USA'}\n",
      "After popping age: {'name': 'Alice', 'country': 'USA'}\n"
     ]
    }
   ],
   "source": [
    "# Delete values using either the del keyword or the pop method\n",
    "# Using del keyword\n",
    "del my_dict['city']\n",
    "print('After deleting city:', my_dict)  # Output: {'name': 'Alice', 'age': 30, 'country': 'USA'}\n",
    "\n",
    "# Using pop method\n",
    "removed_value = my_dict.pop('age', None)\n",
    "print('After popping age:', my_dict)  # Output: {'name': 'Alice', 'country': 'USA'}"
   ]
  },
  {
   "cell_type": "markdown",
   "id": "fb93e0cb",
   "metadata": {},
   "source": [
    "<p>The keys and values method gives you iterators of the dictionary’s keys and values,\n",
    "respectively. The order of the keys depends on the order of their insertion, and these\n",
    "functions output the keys and values in the same respective order</p>"
   ]
  },
  {
   "cell_type": "code",
   "execution_count": 49,
   "id": "6bfc1f6d",
   "metadata": {},
   "outputs": [
    {
     "name": "stdout",
     "output_type": "stream",
     "text": [
      "Keys: dict_keys(['name', 'country'])\n",
      "Values: dict_values(['Alice', 'USA'])\n"
     ]
    }
   ],
   "source": [
    "# keys() and values() methods\n",
    "list_of_keys = my_dict.keys()\n",
    "print('Keys:', list_of_keys)  # Output: dict_keys(['name', 'country'])\n",
    "\n",
    "list_of_values = my_dict.values()\n",
    "print('Values:', list_of_values)  # Output: dict_values(['Alice', 'USA'])"
   ]
  },
  {
   "cell_type": "markdown",
   "id": "1790ad28",
   "metadata": {},
   "source": [
    "<p>If you need to iterate over both the keys and values, you can use the items method to\n",
    "iterate over the keys and values as 2-tuples</p>"
   ]
  },
  {
   "cell_type": "code",
   "execution_count": 51,
   "id": "21ba0bbb",
   "metadata": {},
   "outputs": [
    {
     "name": "stdout",
     "output_type": "stream",
     "text": [
      "Iterating over keys and values: dict_items([('name', 'Alice'), ('country', 'USA')])\n"
     ]
    }
   ],
   "source": [
    "# Iterate over both keys and values using items()\n",
    "print('Iterating over keys and values:', my_dict.items())"
   ]
  },
  {
   "cell_type": "code",
   "execution_count": null,
   "id": "067d538c",
   "metadata": {},
   "outputs": [],
   "source": [
    "# Merging dictionaries\n",
    "dict1 = {'a': 1, 'b': 2}\n",
    "dict2 = {'b': 3, 'c': 4}\n",
    "# Merging using the update method\n",
    "dict1.update(dict2)\n",
    "print('Merged dictionary:', dict1)  # Output: {'a': 1, 'b': 3, 'c': 4}"
   ]
  },
  {
   "cell_type": "markdown",
   "id": "5f4a4cd4",
   "metadata": {},
   "source": [
    "<p>The update method changes dictionaries in place, so any existing keys in the data\n",
    "passed to update will have their old values discarded</p>"
   ]
  },
  {
   "cell_type": "markdown",
   "id": "281efe56",
   "metadata": {},
   "source": [
    "<p><b>Creating dict from sequences</b><p>\n",
    "<p>It’s common to occasionally end up with two sequences that you want to pair up\n",
    "element-wise in a dictionary.</p>"
   ]
  },
  {
   "cell_type": "code",
   "execution_count": 52,
   "id": "d7c844d2",
   "metadata": {},
   "outputs": [
    {
     "name": "stdout",
     "output_type": "stream",
     "text": [
      "Dictionary from tuples: {'name': 'Alice', 'country': 'USA'}\n"
     ]
    }
   ],
   "source": [
    "# Since a dictionary is essentially a collection of 2-tuples, the dict function accepts a list of 2-tuples\n",
    "list_of_tuples = [('name', 'Alice'), ('country', 'USA')]\n",
    "dict_from_tuples = dict(list_of_tuples)\n",
    "print('Dictionary from tuples:', dict_from_tuples)  # Output: {'name': 'Alice', 'country': 'USA'}\n"
   ]
  },
  {
   "cell_type": "markdown",
   "id": "2336c954",
   "metadata": {},
   "source": [
    "<p><b>Deafult values</b></p>"
   ]
  },
  {
   "cell_type": "code",
   "execution_count": 53,
   "id": "5b330a2c",
   "metadata": {},
   "outputs": [
    {
     "name": "stdout",
     "output_type": "stream",
     "text": [
      "Dictionary with default values: {'a': ['apple'], 'b': ['banana'], 'c': ['cherry']}\n"
     ]
    }
   ],
   "source": [
    "# Deafult values\n",
    "# Creating a dictionary with default values using get()\n",
    "words = ['apple', 'banana', 'cherry']\n",
    "by_letters = {}\n",
    "for word in words:\n",
    "    letter = word[0]\n",
    "    by_letters.setdefault(letter, []).append(word)\n",
    "print('Dictionary with default values:', by_letters)  # Output: {'a': ['apple'], 'b': ['banana'], 'c': ['cherry']}"
   ]
  },
  {
   "cell_type": "markdown",
   "id": "ce12951f",
   "metadata": {},
   "source": [
    "<p><b>Valid key type</b></p>\n",
    "<p>Valid dictionary key types\n",
    "While the values of a dictionary can be any Python object, the keys generally have to\n",
    "be immutable objects like scalar types (int, float, string) or tuples (all the objects in\n",
    "the tuple need to be immutable, too). The technical term here is hashability.</p>"
   ]
  },
  {
   "cell_type": "code",
   "execution_count": 56,
   "id": "85998793",
   "metadata": {},
   "outputs": [
    {
     "name": "stdout",
     "output_type": "stream",
     "text": [
      "Is \"a\" hashable? 8517031843062340418\n",
      "Is 1 hashable? 1\n",
      "Is (1, 2) hashable? -3550055125485641917\n"
     ]
    },
    {
     "data": {
      "text/plain": [
       "\"\\nprint('Is [1, 2] hashable?', hash([1, 2]))  # Output: False\\n\""
      ]
     },
     "execution_count": 56,
     "metadata": {},
     "output_type": "execute_result"
    }
   ],
   "source": [
    "# Check for hashable keys\n",
    "print('Is \"a\" hashable?', hash('a'))  # Output: True\n",
    "print('Is 1 hashable?', hash(1))  # Output: True\n",
    "print('Is (1, 2) hashable?', hash((1, 2)))  # Output: True\n",
    "\n",
    "# Hashing mutable objects like lists is not allowed\n",
    "'''\n",
    "print('Is [1, 2] hashable?', hash([1, 2]))  # Output: False\n",
    "'''"
   ]
  },
  {
   "cell_type": "markdown",
   "id": "2c94ee85",
   "metadata": {},
   "source": [
    "<h3>Set</h3>\n",
    "<p>A set is an unordered collection of unique elements.</p>"
   ]
  },
  {
   "cell_type": "code",
   "execution_count": 58,
   "id": "e2895343",
   "metadata": {},
   "outputs": [
    {
     "name": "stdout",
     "output_type": "stream",
     "text": [
      "Set: {1, 2, 3, 4, 5}\n",
      "Set from function: {1, 2, 3, 4, 5}\n"
     ]
    }
   ],
   "source": [
    "# Sets can be created using curly braces or the set() function\n",
    "# Set usinf curly braces\n",
    "my_set = {1, 2, 3, 4, 5}\n",
    "print('Set:', my_set)\n",
    "\n",
    "# Set using the set() function\n",
    "my_set_from_function = set([1, 2, 3, 4, 5])\n",
    "print('Set from function:', my_set_from_function)"
   ]
  },
  {
   "cell_type": "markdown",
   "id": "7cb76fef",
   "metadata": {},
   "source": [
    "<p>Sets support mathematical set operations like union, intersection, difference, and\n",
    "symmetric difference.</p>"
   ]
  },
  {
   "cell_type": "code",
   "execution_count": 60,
   "id": "1a435bdc",
   "metadata": {},
   "outputs": [
    {
     "name": "stdout",
     "output_type": "stream",
     "text": [
      "Union: {1, 2, 3, 4, 5}\n",
      "Intersection: {3}\n",
      "Difference: {1, 2}\n",
      "Symmetric Difference: {1, 2, 4, 5}\n"
     ]
    }
   ],
   "source": [
    "# Union, intersection, difference, and symmetric difference\n",
    "set1 = {1, 2, 3}\n",
    "set2 = {3, 4, 5}\n",
    "\n",
    "# Union\n",
    "union_set = set1 | set2\n",
    "print('Union:', union_set)  # Output: {1, 2, 3, 4, 5}\n",
    "\n",
    "# Intersection\n",
    "intersection_set = set1 & set2\n",
    "print('Intersection:', intersection_set)  # Output: {3}\n",
    "\n",
    "# Difference\n",
    "difference_set = set1 - set2\n",
    "print('Difference:', difference_set)  # Output: {1, 2}\n",
    "\n",
    "# Symmetric Difference\n",
    "symmetric_difference_set = set1 ^ set2\n",
    "print('Symmetric Difference:', symmetric_difference_set)  # Output: {1, 2, 4, 5}\n"
   ]
  },
  {
   "cell_type": "code",
   "execution_count": null,
   "id": "b2fa7d14",
   "metadata": {},
   "outputs": [],
   "source": []
  }
 ],
 "metadata": {
  "kernelspec": {
   "display_name": "STATS",
   "language": "python",
   "name": "python3"
  },
  "language_info": {
   "codemirror_mode": {
    "name": "ipython",
    "version": 3
   },
   "file_extension": ".py",
   "mimetype": "text/x-python",
   "name": "python",
   "nbconvert_exporter": "python",
   "pygments_lexer": "ipython3",
   "version": "3.12.10"
  }
 },
 "nbformat": 4,
 "nbformat_minor": 5
}
