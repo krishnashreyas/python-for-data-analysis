{
 "cells": [
  {
   "cell_type": "markdown",
   "id": "2698f0f3",
   "metadata": {},
   "source": [
    "<h2>Functions</h2>\n",
    "<p>Functions are the primary and most important method of code organization and\n",
    "reuse in Python. As a rule of thumb, if you anticipate needing to repeat the same\n",
    "or very similar code more than once, it may be worth writing a reusable function.\n",
    "Functions can also help make your code more readable by giving a name to a group\n",
    "of Python statements.\n",
    "</p>"
   ]
  },
  {
   "cell_type": "code",
   "execution_count": 5,
   "id": "99337486",
   "metadata": {},
   "outputs": [
    {
     "name": "stdout",
     "output_type": "stream",
     "text": [
      "The sum is: 8\n",
      "Hello, Alice!\n"
     ]
    }
   ],
   "source": [
    "# Functions are defined using the `def` keyword, followed by the function name and parentheses.\n",
    "def my_function():\n",
    "    \"\"\"This is a simple function that prints a message.\"\"\"\n",
    "    print(\"Hello, this is my function!\")\n",
    "\n",
    "# Functions optionally end with a return statement to return a value.\n",
    "def add_numbers(a, b):\n",
    "    \"\"\"This function takes two numbers and returns their sum.\"\"\"\n",
    "    return a + b\n",
    "\n",
    "# When return is used, the function can be called and the result can be stored in a variable.\n",
    "result = add_numbers(5, 3)\n",
    "print(f\"The sum is: {result}\")\n",
    "\n",
    "# Functions can have positional and keyword arguments.\n",
    "# Keyword arguments allow you to specify default values for parameters.\n",
    "def greet(name, greeting=\"Hello\"):\n",
    "    \"\"\"This function greets a person with a specified greeting.\"\"\"\n",
    "    print(f\"{greeting}, {name}!\")\n",
    "# Calling the function with a keyword argument.\n",
    "greet(\"Alice\")\n",
    "\n",
    "# # Keyword argument must follow positional arguments.\n",
    "# greet(greeting=\"Hi\", \"Bob\")  # This will raise a SyntaxError."
   ]
  },
  {
   "cell_type": "markdown",
   "id": "f93e8acd",
   "metadata": {},
   "source": [
    "<h3>Namespaces, scope, and local functions</h3>\n",
    "<p>Functions can access variables created inside the function as well as those outside\n",
    "the function in higher (or even global) scopes. An alternative and more descriptive\n",
    "name describing a variable scope in Python is a namespace. Any variables that are\n",
    "assigned within a function by default are assigned to the local namespace. The local\n",
    "namespace is created when the function is called and is immediately populated by the\n",
    "function’s arguments. After the function is finished, the local namespace is destroyed.</p>"
   ]
  },
  {
   "cell_type": "code",
   "execution_count": 1,
   "id": "834275e5",
   "metadata": {},
   "outputs": [
    {
     "name": "stdout",
     "output_type": "stream",
     "text": [
      "I am local to this function.\n",
      "I have been modified globally.\n",
      "List after appending: [1, 2, 3, 4]\n",
      "List after appending: [1, 2, 3, 4, 5]\n",
      "List after appending: [1, 2, 3, 4, 5, 6]\n"
     ]
    }
   ],
   "source": [
    "# Namespaces in Python refer to the scope where variables are defined.\n",
    "# Variables defined inside a function are local to that function.\n",
    "def local_variable_example():\n",
    "    \"\"\"This function demonstrates local variable scope.\"\"\"\n",
    "    local_var = \"I am local to this function.\"\n",
    "    print(local_var)\n",
    "    # When the function ends, local_var is no longer accessible.\n",
    "local_variable_example()  \n",
    "\n",
    "# If variable is declared outside a function, it is in the global scope.\n",
    "global_var = \"I am global and accessible everywhere.\"\n",
    "def global_variable_example():\n",
    "    \"\"\"This function demonstrates global variable scope.\"\"\"\n",
    "    # Make change to the global variable.\n",
    "    global_var = \"I have been modified globally.\"\n",
    "    print(global_var)\n",
    "global_variable_example()\n",
    "\n",
    "# Example using list append method.\n",
    "my_list = [1, 2, 3]\n",
    "def append_to_list(item):\n",
    "    \"\"\"This function appends an item to a global list.\"\"\"\n",
    "    my_list.append(item)\n",
    "    print(f\"List after appending: {my_list}\")\n",
    "append_to_list(4)\n",
    "append_to_list(5)\n",
    "append_to_list(6)"
   ]
  },
  {
   "cell_type": "markdown",
   "id": "2bd4c5ab",
   "metadata": {},
   "source": [
    "<h3>Returning multiple values</h3>"
   ]
  },
  {
   "cell_type": "code",
   "execution_count": 1,
   "id": "a60252b2",
   "metadata": {},
   "outputs": [
    {
     "name": "stdout",
     "output_type": "stream",
     "text": [
      "Returned values: (1, 2, 3)\n",
      "a: 1, b: 2, c: 3\n"
     ]
    }
   ],
   "source": [
    "# Returning multiple values from a function.\n",
    "def return_multiple_values():\n",
    "    \"\"\"This function returns multiple values.\"\"\"\n",
    "    return 1, 2, 3\n",
    "\n",
    "# The function is actually just returning one object, a tuple, which is then being unpacked into the result variables.\n",
    "values = return_multiple_values()\n",
    "print(f\"Returned values: {values}\")\n",
    "\n",
    "# Assign to multiple variables.\n",
    "a, b, c = return_multiple_values()\n",
    "print(f\"a: {a}, b: {b}, c: {c}\")\n",
    "\n"
   ]
  },
  {
   "cell_type": "markdown",
   "id": "241e3d7c",
   "metadata": {},
   "source": [
    "<h3>Functions are objects</h3>"
   ]
  },
  {
   "cell_type": "code",
   "execution_count": 5,
   "id": "8861cb4d",
   "metadata": {},
   "outputs": [
    {
     "name": "stdout",
     "output_type": "stream",
     "text": [
      "Processed states: ['California', 'Texas', 'Florida', 'New York', 'Illinois', 'Georgia']\n",
      "Cleaned states: ['California', 'Texas', 'Florida', 'New York', 'Illinois', 'Georgia']\n",
      "California\n",
      "Texas\n",
      "Florida\n",
      "New York\n",
      "Illinois\n",
      "Georgia\n"
     ]
    }
   ],
   "source": [
    "# Consider task of applying trasformation to a list of strings.\n",
    "states = [\"California\", \"Texas\", \"Florida\", '###New York', \"Illinois\", \"Georgia?\"]\n",
    "\n",
    "# One way to transform the list is to use a function that processes each string.\n",
    "def process_state(states):\n",
    "    \"\"\"This function processes a state string by removing unwanted characters.\"\"\"\n",
    "    result = []\n",
    "    for state in states:\n",
    "        state = state.strip()  # Remove leading/trailing whitespace\n",
    "        state = state.replace('###', '')\n",
    "        state = state.replace('?', '')  # Remove question marks\n",
    "        result.append(state)\n",
    "    \n",
    "    return result\n",
    "\n",
    "# Call the function and print the processed states.\n",
    "processed_states = process_state(states)\n",
    "print(\"Processed states:\", processed_states)\n",
    "\n",
    "# Another way to achieve the same result is to use a list of operation.\n",
    "import re\n",
    "def remove_punctuation(s):\n",
    "    \"\"\"This function removes punctuation from a string.\"\"\"\n",
    "    return re.sub('[!#?]', '', s)\n",
    "\n",
    "operations = [str.strip, remove_punctuation, str.title]\n",
    "def clean_state(states):\n",
    "    \"\"\"This function cleans a state string by removing unwanted characters.\"\"\"\n",
    "    result = []\n",
    "    for state in states:\n",
    "        for operation in operations:\n",
    "            state = operation(state)   \n",
    "        result.append(state)\n",
    "    return result\n",
    "\n",
    "# Call the function and print the cleaned states.\n",
    "cleaned_states = clean_state(states)\n",
    "print(\"Cleaned states:\", cleaned_states)\n",
    "    \n",
    "# Using map to apply a function to each item in a list.\n",
    "for x in map(remove_punctuation, states):\n",
    "    print(x)\n",
    "\n"
   ]
  },
  {
   "cell_type": "markdown",
   "id": "b7878385",
   "metadata": {},
   "source": [
    "<h3>Anonymous (Lambda) Functions</h3>\n",
    "\n",
    "<p>Python has support for so-called anonymous or lambda functions, which are a way\n",
    "of writing functions consisting of a single statement, the result of which is the return\n",
    "value. They are defined with the lambda keyword, which has no meaning other than\n",
    "“we are declaring an anonymous function”</p>"
   ]
  },
  {
   "cell_type": "code",
   "execution_count": 6,
   "id": "3693c7d3",
   "metadata": {},
   "outputs": [],
   "source": [
    "# Function that returns square of a number.\n",
    "def square(x):\n",
    "    \"\"\"This function returns the square of a number.\"\"\"\n",
    "    return x * x\n",
    "\n",
    "# Anonymous (Lambda) Functions\n",
    "equivalent_square = lambda x: x * x"
   ]
  },
  {
   "cell_type": "code",
   "execution_count": 8,
   "id": "0b053659",
   "metadata": {},
   "outputs": [
    {
     "name": "stdout",
     "output_type": "stream",
     "text": [
      "Squared numbers: [1, 4, 9, 16, 25]\n",
      "Multiplied numbers: [2, 4, 6, 8, 10]\n",
      "Uppercase strings: ['APPLE', 'BANANA', 'CHERRY']\n"
     ]
    }
   ],
   "source": [
    "# Example of applying different operations to a list of numbers.\n",
    "numbers = [1, 2, 3, 4, 5]\n",
    "\n",
    "# Function that takes list and another function as arguments to apply the function to each element.\n",
    "def apply_function_to_list(func, lst):\n",
    "    \"\"\"This function applies a given function to each element in a list.\"\"\"\n",
    "    return [func(x) for x in lst]\n",
    "\n",
    "# Using the function to apply square to each number in the list.\n",
    "squared_numbers = apply_function_to_list(lambda x: x**2, numbers)\n",
    "print(\"Squared numbers:\", squared_numbers)\n",
    "\n",
    "# Add another operation to the list of operations.\n",
    "# Multiply list elements by 2.\n",
    "mul = apply_function_to_list(lambda x: x * 2, numbers)\n",
    "print(\"Multiplied numbers:\", mul)\n",
    "\n",
    "# Now, we can use the same function to apply different operations to the list.\n",
    "# Consider a list of strings.\n",
    "strings = [\"apple\", \"banana\", \"cherry\"]\n",
    "\n",
    "# Function to convert strings to uppercase.\n",
    "uppr = apply_function_to_list(lambda x: x.upper(), strings)\n",
    "print(\"Uppercase strings:\", uppr)"
   ]
  },
  {
   "cell_type": "code",
   "execution_count": null,
   "id": "e4fb5332",
   "metadata": {},
   "outputs": [],
   "source": []
  }
 ],
 "metadata": {
  "kernelspec": {
   "display_name": "STATS",
   "language": "python",
   "name": "python3"
  },
  "language_info": {
   "codemirror_mode": {
    "name": "ipython",
    "version": 3
   },
   "file_extension": ".py",
   "mimetype": "text/x-python",
   "name": "python",
   "nbconvert_exporter": "python",
   "pygments_lexer": "ipython3",
   "version": "3.12.10"
  }
 },
 "nbformat": 4,
 "nbformat_minor": 5
}
